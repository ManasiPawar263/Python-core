{
 "cells": [
  {
   "cell_type": "markdown",
   "id": "9aa7fe02",
   "metadata": {},
   "source": [
    "# Control Structure\n",
    "\n",
    "- Taking user input"
   ]
  },
  {
   "cell_type": "code",
   "execution_count": 1,
   "id": "cdd9b920",
   "metadata": {
    "ExecuteTime": {
     "end_time": "2023-03-12T04:25:12.769472Z",
     "start_time": "2023-03-12T04:25:01.454824Z"
    }
   },
   "outputs": [
    {
     "name": "stdout",
     "output_type": "stream",
     "text": [
      "Enter the current score: 10\n"
     ]
    }
   ],
   "source": [
    "score = input('Enter the current score: ')   # input() always returns a string"
   ]
  },
  {
   "cell_type": "code",
   "execution_count": 2,
   "id": "b33dfeb1",
   "metadata": {
    "ExecuteTime": {
     "end_time": "2023-03-12T04:25:12.799948Z",
     "start_time": "2023-03-12T04:25:12.775391Z"
    }
   },
   "outputs": [
    {
     "data": {
      "text/plain": [
       "'10'"
      ]
     },
     "execution_count": 2,
     "metadata": {},
     "output_type": "execute_result"
    }
   ],
   "source": [
    "score"
   ]
  },
  {
   "cell_type": "code",
   "execution_count": 3,
   "id": "1fff0a32",
   "metadata": {
    "ExecuteTime": {
     "end_time": "2023-03-12T04:25:12.815943Z",
     "start_time": "2023-03-12T04:25:12.804509Z"
    }
   },
   "outputs": [
    {
     "data": {
      "text/plain": [
       "str"
      ]
     },
     "execution_count": 3,
     "metadata": {},
     "output_type": "execute_result"
    }
   ],
   "source": [
    "type(score)"
   ]
  },
  {
   "cell_type": "code",
   "execution_count": 4,
   "id": "f90c6bbf",
   "metadata": {
    "ExecuteTime": {
     "end_time": "2023-03-12T04:25:22.045170Z",
     "start_time": "2023-03-12T04:25:12.820601Z"
    }
   },
   "outputs": [
    {
     "name": "stdout",
     "output_type": "stream",
     "text": [
      "Enter the current score: 20\n"
     ]
    }
   ],
   "source": [
    "x = int(input('Enter the current score: '))"
   ]
  },
  {
   "cell_type": "code",
   "execution_count": 5,
   "id": "b6d862be",
   "metadata": {
    "ExecuteTime": {
     "end_time": "2023-03-12T04:25:22.076309Z",
     "start_time": "2023-03-12T04:25:22.053814Z"
    }
   },
   "outputs": [
    {
     "data": {
      "text/plain": [
       "int"
      ]
     },
     "execution_count": 5,
     "metadata": {},
     "output_type": "execute_result"
    }
   ],
   "source": [
    "type(x)"
   ]
  },
  {
   "cell_type": "markdown",
   "id": "ea421e94",
   "metadata": {},
   "source": [
    "**Conditional statement :**\n",
    "\n",
    "- if\n",
    "- if-else\n",
    "- elif"
   ]
  },
  {
   "cell_type": "code",
   "execution_count": 6,
   "id": "7e67a58a",
   "metadata": {
    "ExecuteTime": {
     "end_time": "2023-03-12T04:25:22.092316Z",
     "start_time": "2023-03-12T04:25:22.080335Z"
    }
   },
   "outputs": [],
   "source": [
    "# Identifying positive number"
   ]
  },
  {
   "cell_type": "code",
   "execution_count": 7,
   "id": "5e100eeb",
   "metadata": {
    "ExecuteTime": {
     "end_time": "2023-03-12T04:25:29.994992Z",
     "start_time": "2023-03-12T04:25:22.097316Z"
    }
   },
   "outputs": [
    {
     "name": "stdout",
     "output_type": "stream",
     "text": [
      "Enter any number: 12\n",
      "12\n"
     ]
    }
   ],
   "source": [
    "number = int(input('Enter any number: '))\n",
    "print(number)"
   ]
  },
  {
   "cell_type": "code",
   "execution_count": 8,
   "id": "7389a918",
   "metadata": {
    "ExecuteTime": {
     "end_time": "2023-03-12T04:25:30.026341Z",
     "start_time": "2023-03-12T04:25:29.999949Z"
    }
   },
   "outputs": [
    {
     "name": "stdout",
     "output_type": "stream",
     "text": [
      "User has entered a Positive:  12\n"
     ]
    }
   ],
   "source": [
    "if number >= 0:\n",
    "    print('User has entered a Positive: ', number)\n",
    "else:\n",
    "    print('user has entered a Negative: ', number)"
   ]
  },
  {
   "cell_type": "code",
   "execution_count": 9,
   "id": "627aabff",
   "metadata": {
    "ExecuteTime": {
     "end_time": "2023-03-12T04:25:30.042730Z",
     "start_time": "2023-03-12T04:25:30.031218Z"
    }
   },
   "outputs": [],
   "source": [
    "# Identifying negative number"
   ]
  },
  {
   "cell_type": "code",
   "execution_count": 10,
   "id": "6c937064",
   "metadata": {
    "ExecuteTime": {
     "end_time": "2023-03-12T04:25:36.986270Z",
     "start_time": "2023-03-12T04:25:30.048679Z"
    }
   },
   "outputs": [
    {
     "name": "stdout",
     "output_type": "stream",
     "text": [
      "Enter any number: -8\n"
     ]
    }
   ],
   "source": [
    "number = int(input('Enter any number: '))"
   ]
  },
  {
   "cell_type": "code",
   "execution_count": 11,
   "id": "0bfed068",
   "metadata": {
    "ExecuteTime": {
     "end_time": "2023-03-12T04:25:37.001584Z",
     "start_time": "2023-03-12T04:25:36.990940Z"
    }
   },
   "outputs": [
    {
     "name": "stdout",
     "output_type": "stream",
     "text": [
      "user has entered a Negative:  -8\n"
     ]
    }
   ],
   "source": [
    "if number >= 0:\n",
    "    print('User has entered a Positive: ', number)\n",
    "else:\n",
    "    print('user has entered a Negative: ', number)"
   ]
  },
  {
   "cell_type": "code",
   "execution_count": 12,
   "id": "95d8b783",
   "metadata": {
    "ExecuteTime": {
     "end_time": "2023-03-12T04:25:37.017078Z",
     "start_time": "2023-03-12T04:25:37.009604Z"
    }
   },
   "outputs": [],
   "source": [
    "# elif condition"
   ]
  },
  {
   "cell_type": "code",
   "execution_count": 13,
   "id": "ae87b2a4",
   "metadata": {
    "ExecuteTime": {
     "end_time": "2023-03-12T04:25:45.124426Z",
     "start_time": "2023-03-12T04:25:37.021832Z"
    }
   },
   "outputs": [
    {
     "name": "stdout",
     "output_type": "stream",
     "text": [
      "Enter any number: 0\n"
     ]
    }
   ],
   "source": [
    "number = int(input('Enter any number: '))"
   ]
  },
  {
   "cell_type": "code",
   "execution_count": 14,
   "id": "ef785f80",
   "metadata": {
    "ExecuteTime": {
     "end_time": "2023-03-12T04:25:45.155513Z",
     "start_time": "2023-03-12T04:25:45.137047Z"
    }
   },
   "outputs": [
    {
     "name": "stdout",
     "output_type": "stream",
     "text": [
      "Its a zero\n"
     ]
    }
   ],
   "source": [
    "if number > 0:\n",
    "    print('User has entered a Positive: ', number)\n",
    "elif number == 0:\n",
    "    print('Its a zero')\n",
    "else:\n",
    "    print('user has entered a Negative: ', number)"
   ]
  },
  {
   "cell_type": "markdown",
   "id": "938df2d3",
   "metadata": {},
   "source": [
    "# While\n",
    "\n",
    "- Infinite loop till condition gets satisfied."
   ]
  },
  {
   "cell_type": "code",
   "execution_count": 15,
   "id": "c2713e0d",
   "metadata": {
    "ExecuteTime": {
     "end_time": "2023-03-12T04:25:45.186478Z",
     "start_time": "2023-03-12T04:25:45.161957Z"
    }
   },
   "outputs": [
    {
     "name": "stdout",
     "output_type": "stream",
     "text": [
      "1\n",
      "2\n",
      "3\n",
      "4\n",
      "5\n",
      "6\n",
      "7\n",
      "8\n",
      "9\n",
      "10\n"
     ]
    }
   ],
   "source": [
    "index = 1\n",
    "while index <= 10:\n",
    "    print(index)\n",
    "    index = index + 1"
   ]
  },
  {
   "cell_type": "code",
   "execution_count": 16,
   "id": "ca6bb853",
   "metadata": {
    "ExecuteTime": {
     "end_time": "2023-03-12T04:25:45.201780Z",
     "start_time": "2023-03-12T04:25:45.191940Z"
    }
   },
   "outputs": [],
   "source": [
    "# For loop"
   ]
  },
  {
   "cell_type": "code",
   "execution_count": 17,
   "id": "357ae6fb",
   "metadata": {
    "ExecuteTime": {
     "end_time": "2023-03-12T04:25:45.217769Z",
     "start_time": "2023-03-12T04:25:45.206936Z"
    }
   },
   "outputs": [],
   "source": [
    "r = list(range(1,10,2))"
   ]
  },
  {
   "cell_type": "code",
   "execution_count": 18,
   "id": "65562e9d",
   "metadata": {
    "ExecuteTime": {
     "end_time": "2023-03-12T04:25:45.233714Z",
     "start_time": "2023-03-12T04:25:45.223441Z"
    }
   },
   "outputs": [
    {
     "name": "stdout",
     "output_type": "stream",
     "text": [
      "1\n",
      "3\n",
      "5\n",
      "7\n",
      "9\n"
     ]
    }
   ],
   "source": [
    "for i in r:\n",
    "    print(i)"
   ]
  },
  {
   "cell_type": "code",
   "execution_count": 19,
   "id": "ad26ef24",
   "metadata": {
    "ExecuteTime": {
     "end_time": "2023-03-12T04:25:45.249423Z",
     "start_time": "2023-03-12T04:25:45.237969Z"
    }
   },
   "outputs": [],
   "source": [
    "# Convert company names into their websites "
   ]
  },
  {
   "cell_type": "code",
   "execution_count": 20,
   "id": "81e5bac2",
   "metadata": {
    "ExecuteTime": {
     "end_time": "2023-03-12T04:25:45.265282Z",
     "start_time": "2023-03-12T04:25:45.253391Z"
    }
   },
   "outputs": [],
   "source": [
    "company_names = ['Amazon', 'Ajio', 'Myntra']"
   ]
  },
  {
   "cell_type": "code",
   "execution_count": 21,
   "id": "f4e08106",
   "metadata": {
    "ExecuteTime": {
     "end_time": "2023-03-12T04:25:45.281246Z",
     "start_time": "2023-03-12T04:25:45.269193Z"
    }
   },
   "outputs": [],
   "source": [
    "x = 'www.amazon.com'"
   ]
  },
  {
   "cell_type": "code",
   "execution_count": 22,
   "id": "c6884dd7",
   "metadata": {
    "ExecuteTime": {
     "end_time": "2023-03-12T04:25:45.296895Z",
     "start_time": "2023-03-12T04:25:45.286154Z"
    }
   },
   "outputs": [
    {
     "data": {
      "text/plain": [
       "'www.amazon.com'"
      ]
     },
     "execution_count": 22,
     "metadata": {},
     "output_type": "execute_result"
    }
   ],
   "source": [
    "x"
   ]
  },
  {
   "cell_type": "code",
   "execution_count": 23,
   "id": "65aee354",
   "metadata": {
    "ExecuteTime": {
     "end_time": "2023-03-12T04:25:45.312193Z",
     "start_time": "2023-03-12T04:25:45.302121Z"
    }
   },
   "outputs": [
    {
     "name": "stdout",
     "output_type": "stream",
     "text": [
      "www.Amazon.com\n",
      "www.Ajio.com\n",
      "www.Myntra.com\n"
     ]
    }
   ],
   "source": [
    "for i in company_names:\n",
    "    print('www.' + i + '.com')"
   ]
  },
  {
   "cell_type": "code",
   "execution_count": 24,
   "id": "0e52c8c1",
   "metadata": {
    "ExecuteTime": {
     "end_time": "2023-03-12T04:25:45.327285Z",
     "start_time": "2023-03-12T04:25:45.318257Z"
    }
   },
   "outputs": [],
   "source": [
    "# We want all these websites in list"
   ]
  },
  {
   "cell_type": "code",
   "execution_count": 25,
   "id": "41e65f2a",
   "metadata": {
    "ExecuteTime": {
     "end_time": "2023-03-12T04:25:45.342828Z",
     "start_time": "2023-03-12T04:25:45.333243Z"
    }
   },
   "outputs": [],
   "source": [
    "websites = []\n",
    "for i in company_names:\n",
    "    i = 'www.' + i + '.com'\n",
    "    websites.append(i)"
   ]
  },
  {
   "cell_type": "code",
   "execution_count": 26,
   "id": "c2a9b754",
   "metadata": {
    "ExecuteTime": {
     "end_time": "2023-03-12T04:25:45.373264Z",
     "start_time": "2023-03-12T04:25:45.348213Z"
    }
   },
   "outputs": [
    {
     "data": {
      "text/plain": [
       "['www.Amazon.com', 'www.Ajio.com', 'www.Myntra.com']"
      ]
     },
     "execution_count": 26,
     "metadata": {},
     "output_type": "execute_result"
    }
   ],
   "source": [
    "websites"
   ]
  },
  {
   "cell_type": "code",
   "execution_count": 27,
   "id": "8567a738",
   "metadata": {
    "ExecuteTime": {
     "end_time": "2023-03-12T04:25:45.389039Z",
     "start_time": "2023-03-12T04:25:45.379196Z"
    }
   },
   "outputs": [],
   "source": [
    "vk = {'name' : 'virat', 'age' : 35, 'team' : 'RCB'}"
   ]
  },
  {
   "cell_type": "code",
   "execution_count": 28,
   "id": "b1a202cd",
   "metadata": {
    "ExecuteTime": {
     "end_time": "2023-03-12T04:25:45.419433Z",
     "start_time": "2023-03-12T04:25:45.395035Z"
    }
   },
   "outputs": [
    {
     "name": "stdout",
     "output_type": "stream",
     "text": [
      "name\n",
      "age\n",
      "team\n"
     ]
    }
   ],
   "source": [
    "for i in vk:\n",
    "    print(i)"
   ]
  },
  {
   "cell_type": "code",
   "execution_count": 29,
   "id": "c33d7a92",
   "metadata": {
    "ExecuteTime": {
     "end_time": "2023-03-12T04:25:45.434724Z",
     "start_time": "2023-03-12T04:25:45.424430Z"
    }
   },
   "outputs": [
    {
     "name": "stdout",
     "output_type": "stream",
     "text": [
      "virat\n",
      "35\n",
      "RCB\n"
     ]
    }
   ],
   "source": [
    "for i in vk.values():\n",
    "    print(i)"
   ]
  },
  {
   "cell_type": "code",
   "execution_count": 30,
   "id": "bf154838",
   "metadata": {
    "ExecuteTime": {
     "end_time": "2023-03-12T04:25:45.450340Z",
     "start_time": "2023-03-12T04:25:45.441168Z"
    }
   },
   "outputs": [],
   "source": [
    "# we want both keys & values "
   ]
  },
  {
   "cell_type": "code",
   "execution_count": 31,
   "id": "7d5620f3",
   "metadata": {
    "ExecuteTime": {
     "end_time": "2023-03-12T04:25:45.465352Z",
     "start_time": "2023-03-12T04:25:45.454348Z"
    }
   },
   "outputs": [
    {
     "name": "stdout",
     "output_type": "stream",
     "text": [
      "('name', 'virat')\n",
      "('age', 35)\n",
      "('team', 'RCB')\n"
     ]
    }
   ],
   "source": [
    "for i in vk.items():\n",
    "    print(i)"
   ]
  },
  {
   "cell_type": "code",
   "execution_count": 32,
   "id": "91b2e22f",
   "metadata": {
    "ExecuteTime": {
     "end_time": "2023-03-12T04:25:45.481531Z",
     "start_time": "2023-03-12T04:25:45.471947Z"
    }
   },
   "outputs": [],
   "source": [
    "# or if we don't want output in tuple or another method"
   ]
  },
  {
   "cell_type": "code",
   "execution_count": 33,
   "id": "e8204858",
   "metadata": {
    "ExecuteTime": {
     "end_time": "2023-03-12T04:25:45.497127Z",
     "start_time": "2023-03-12T04:25:45.487786Z"
    }
   },
   "outputs": [
    {
     "name": "stdout",
     "output_type": "stream",
     "text": [
      "name virat\n",
      "age 35\n",
      "team RCB\n"
     ]
    }
   ],
   "source": [
    "for i, j in vk.items():\n",
    "    print(i, j)"
   ]
  },
  {
   "cell_type": "code",
   "execution_count": 34,
   "id": "61bd488a",
   "metadata": {
    "ExecuteTime": {
     "end_time": "2023-03-12T04:25:45.512074Z",
     "start_time": "2023-03-12T04:25:45.503149Z"
    }
   },
   "outputs": [],
   "source": [
    "# enumerate function (it display index values)"
   ]
  },
  {
   "cell_type": "code",
   "execution_count": 36,
   "id": "035bec63",
   "metadata": {
    "ExecuteTime": {
     "end_time": "2023-03-12T04:26:17.937906Z",
     "start_time": "2023-03-12T04:26:17.925040Z"
    }
   },
   "outputs": [
    {
     "name": "stdout",
     "output_type": "stream",
     "text": [
      "(0, 'Amazon')\n",
      "(1, 'Ajio')\n",
      "(2, 'Myntra')\n"
     ]
    }
   ],
   "source": [
    "for i in enumerate(company_names):\n",
    "    print(i)"
   ]
  },
  {
   "cell_type": "markdown",
   "id": "869309e5",
   "metadata": {},
   "source": [
    "# Break"
   ]
  },
  {
   "cell_type": "code",
   "execution_count": 40,
   "id": "401b93cd",
   "metadata": {
    "ExecuteTime": {
     "end_time": "2023-03-12T04:33:02.030761Z",
     "start_time": "2023-03-12T04:33:02.008542Z"
    }
   },
   "outputs": [
    {
     "name": "stdout",
     "output_type": "stream",
     "text": [
      "1\n",
      "2\n",
      "3\n",
      "4\n",
      "5\n"
     ]
    }
   ],
   "source": [
    "for i in range(1,11):\n",
    "    print(i)\n",
    "    if i == 5:\n",
    "        break"
   ]
  },
  {
   "cell_type": "markdown",
   "id": "64bca684",
   "metadata": {},
   "source": [
    "# Continue"
   ]
  },
  {
   "cell_type": "code",
   "execution_count": 41,
   "id": "370de342",
   "metadata": {
    "ExecuteTime": {
     "end_time": "2023-03-12T04:39:22.816047Z",
     "start_time": "2023-03-12T04:39:22.798723Z"
    }
   },
   "outputs": [
    {
     "name": "stdout",
     "output_type": "stream",
     "text": [
      "1\n",
      "3\n",
      "5\n",
      "7\n",
      "9\n"
     ]
    }
   ],
   "source": [
    "for i in range(1,11):\n",
    "    if i%2 == 0:\n",
    "        continue\n",
    "    print(i)"
   ]
  },
  {
   "cell_type": "code",
   "execution_count": 42,
   "id": "09da40d8",
   "metadata": {
    "ExecuteTime": {
     "end_time": "2023-03-12T04:44:58.154731Z",
     "start_time": "2023-03-12T04:44:58.149667Z"
    }
   },
   "outputs": [],
   "source": [
    "# take input from user and print reverse of the number "
   ]
  },
  {
   "cell_type": "code",
   "execution_count": 45,
   "id": "f3368a8c",
   "metadata": {
    "ExecuteTime": {
     "end_time": "2023-03-12T04:50:49.679540Z",
     "start_time": "2023-03-12T04:50:46.297944Z"
    }
   },
   "outputs": [
    {
     "name": "stdout",
     "output_type": "stream",
     "text": [
      "Enter the number: 123\n",
      "reverse:  321\n"
     ]
    }
   ],
   "source": [
    "x = input('Enter the number: ')\n",
    "print('reverse: ', x[::-1])"
   ]
  },
  {
   "cell_type": "code",
   "execution_count": 46,
   "id": "d8893c3b",
   "metadata": {
    "ExecuteTime": {
     "end_time": "2023-03-12T04:52:31.656790Z",
     "start_time": "2023-03-12T04:52:31.640167Z"
    }
   },
   "outputs": [],
   "source": [
    "# write a code to get sum of all the elements in list\n",
    "# num = [1,2,3]"
   ]
  },
  {
   "cell_type": "code",
   "execution_count": 47,
   "id": "3f2e87fd",
   "metadata": {
    "ExecuteTime": {
     "end_time": "2023-03-12T04:53:44.568910Z",
     "start_time": "2023-03-12T04:53:44.548803Z"
    }
   },
   "outputs": [],
   "source": [
    "num = [1,2,3]"
   ]
  },
  {
   "cell_type": "code",
   "execution_count": 48,
   "id": "2ec6e5ef",
   "metadata": {
    "ExecuteTime": {
     "end_time": "2023-03-12T04:54:22.983308Z",
     "start_time": "2023-03-12T04:54:22.968277Z"
    }
   },
   "outputs": [
    {
     "data": {
      "text/plain": [
       "6"
      ]
     },
     "execution_count": 48,
     "metadata": {},
     "output_type": "execute_result"
    }
   ],
   "source": [
    "sum(num)"
   ]
  },
  {
   "cell_type": "code",
   "execution_count": 49,
   "id": "6ead5cc8",
   "metadata": {
    "ExecuteTime": {
     "end_time": "2023-03-12T04:56:20.636901Z",
     "start_time": "2023-03-12T04:56:20.631481Z"
    }
   },
   "outputs": [
    {
     "name": "stdout",
     "output_type": "stream",
     "text": [
      "6\n"
     ]
    }
   ],
   "source": [
    "result = 0\n",
    "for i in num: \n",
    "    result += i\n",
    "print(result)"
   ]
  }
 ],
 "metadata": {
  "kernelspec": {
   "display_name": "Python 3 (ipykernel)",
   "language": "python",
   "name": "python3"
  },
  "language_info": {
   "codemirror_mode": {
    "name": "ipython",
    "version": 3
   },
   "file_extension": ".py",
   "mimetype": "text/x-python",
   "name": "python",
   "nbconvert_exporter": "python",
   "pygments_lexer": "ipython3",
   "version": "3.9.13"
  }
 },
 "nbformat": 4,
 "nbformat_minor": 5
}
