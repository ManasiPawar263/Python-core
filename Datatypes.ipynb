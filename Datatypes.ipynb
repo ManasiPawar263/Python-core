{
 "cells": [
  {
   "cell_type": "markdown",
   "id": "e4dedf4c",
   "metadata": {},
   "source": [
    "# Introduction to datatypes"
   ]
  },
  {
   "cell_type": "code",
   "execution_count": 1,
   "id": "348c9941",
   "metadata": {
    "ExecuteTime": {
     "end_time": "2023-03-08T09:48:15.934597Z",
     "start_time": "2023-03-08T09:48:15.912563Z"
    }
   },
   "outputs": [],
   "source": [
    "i = 10"
   ]
  },
  {
   "cell_type": "code",
   "execution_count": 2,
   "id": "84807020",
   "metadata": {
    "ExecuteTime": {
     "end_time": "2023-03-08T09:48:15.964518Z",
     "start_time": "2023-03-08T09:48:15.937672Z"
    }
   },
   "outputs": [
    {
     "data": {
      "text/plain": [
       "int"
      ]
     },
     "execution_count": 2,
     "metadata": {},
     "output_type": "execute_result"
    }
   ],
   "source": [
    "type(i)"
   ]
  },
  {
   "cell_type": "code",
   "execution_count": 3,
   "id": "7a454bd4",
   "metadata": {
    "ExecuteTime": {
     "end_time": "2023-03-08T09:48:15.979593Z",
     "start_time": "2023-03-08T09:48:15.966534Z"
    }
   },
   "outputs": [
    {
     "data": {
      "text/plain": [
       "2081126181456"
      ]
     },
     "execution_count": 3,
     "metadata": {},
     "output_type": "execute_result"
    }
   ],
   "source": [
    "id(i)     # id is for memory location"
   ]
  },
  {
   "cell_type": "code",
   "execution_count": 4,
   "id": "e98a1352",
   "metadata": {
    "ExecuteTime": {
     "end_time": "2023-03-08T09:48:15.994759Z",
     "start_time": "2023-03-08T09:48:15.981685Z"
    }
   },
   "outputs": [
    {
     "data": {
      "text/plain": [
       "10"
      ]
     },
     "execution_count": 4,
     "metadata": {},
     "output_type": "execute_result"
    }
   ],
   "source": [
    "i"
   ]
  },
  {
   "cell_type": "code",
   "execution_count": 5,
   "id": "b5efca19",
   "metadata": {
    "ExecuteTime": {
     "end_time": "2023-03-08T09:48:16.010176Z",
     "start_time": "2023-03-08T09:48:15.999177Z"
    }
   },
   "outputs": [
    {
     "name": "stdout",
     "output_type": "stream",
     "text": [
      "10\n"
     ]
    }
   ],
   "source": [
    "print(i)"
   ]
  },
  {
   "cell_type": "markdown",
   "id": "3b28da4c",
   "metadata": {},
   "source": [
    "# String\n",
    "\n",
    "- Collection of characters.\n",
    "- Defined either by single or double quotes.\n",
    "- It is immutable."
   ]
  },
  {
   "cell_type": "code",
   "execution_count": 6,
   "id": "ff768b68",
   "metadata": {
    "ExecuteTime": {
     "end_time": "2023-03-08T09:48:16.026212Z",
     "start_time": "2023-03-08T09:48:16.012176Z"
    }
   },
   "outputs": [],
   "source": [
    "s = 'WELCOME'"
   ]
  },
  {
   "cell_type": "code",
   "execution_count": 7,
   "id": "1e8994de",
   "metadata": {
    "ExecuteTime": {
     "end_time": "2023-03-08T09:48:16.042176Z",
     "start_time": "2023-03-08T09:48:16.028176Z"
    }
   },
   "outputs": [
    {
     "name": "stdout",
     "output_type": "stream",
     "text": [
      "<class 'str'>\n"
     ]
    }
   ],
   "source": [
    "print(type(s))"
   ]
  },
  {
   "cell_type": "code",
   "execution_count": 8,
   "id": "dbecf876",
   "metadata": {
    "ExecuteTime": {
     "end_time": "2023-03-08T09:48:16.058177Z",
     "start_time": "2023-03-08T09:48:16.045176Z"
    }
   },
   "outputs": [
    {
     "data": {
      "text/plain": [
       "7"
      ]
     },
     "execution_count": 8,
     "metadata": {},
     "output_type": "execute_result"
    }
   ],
   "source": [
    "len(s)   # len is used for string, lists, tuple"
   ]
  },
  {
   "cell_type": "markdown",
   "id": "1724896d",
   "metadata": {},
   "source": [
    "# Indexing\n",
    "\n",
    "1. Positive indexing\n",
    "2. Negative indexing"
   ]
  },
  {
   "cell_type": "code",
   "execution_count": 9,
   "id": "cd4b4153",
   "metadata": {
    "ExecuteTime": {
     "end_time": "2023-03-08T09:48:16.074056Z",
     "start_time": "2023-03-08T09:48:16.060136Z"
    }
   },
   "outputs": [],
   "source": [
    "# Positive indexing"
   ]
  },
  {
   "cell_type": "code",
   "execution_count": 10,
   "id": "3b260f31",
   "metadata": {
    "ExecuteTime": {
     "end_time": "2023-03-08T09:48:16.089314Z",
     "start_time": "2023-03-08T09:48:16.077387Z"
    }
   },
   "outputs": [
    {
     "data": {
      "text/plain": [
       "'W'"
      ]
     },
     "execution_count": 10,
     "metadata": {},
     "output_type": "execute_result"
    }
   ],
   "source": [
    "s[0]"
   ]
  },
  {
   "cell_type": "code",
   "execution_count": 11,
   "id": "77e1e16a",
   "metadata": {
    "ExecuteTime": {
     "end_time": "2023-03-08T09:48:16.105387Z",
     "start_time": "2023-03-08T09:48:16.092364Z"
    }
   },
   "outputs": [
    {
     "data": {
      "text/plain": [
       "'M'"
      ]
     },
     "execution_count": 11,
     "metadata": {},
     "output_type": "execute_result"
    }
   ],
   "source": [
    "s[5]"
   ]
  },
  {
   "cell_type": "code",
   "execution_count": 12,
   "id": "f1c8be06",
   "metadata": {
    "ExecuteTime": {
     "end_time": "2023-03-08T09:48:16.121383Z",
     "start_time": "2023-03-08T09:48:16.107312Z"
    }
   },
   "outputs": [],
   "source": [
    "# Negative indexing"
   ]
  },
  {
   "cell_type": "code",
   "execution_count": 13,
   "id": "68395763",
   "metadata": {
    "ExecuteTime": {
     "end_time": "2023-03-08T09:48:16.137309Z",
     "start_time": "2023-03-08T09:48:16.125313Z"
    }
   },
   "outputs": [
    {
     "data": {
      "text/plain": [
       "'E'"
      ]
     },
     "execution_count": 13,
     "metadata": {},
     "output_type": "execute_result"
    }
   ],
   "source": [
    "s[-1]"
   ]
  },
  {
   "cell_type": "code",
   "execution_count": 14,
   "id": "3019d42f",
   "metadata": {
    "ExecuteTime": {
     "end_time": "2023-03-08T09:48:16.153092Z",
     "start_time": "2023-03-08T09:48:16.143764Z"
    }
   },
   "outputs": [
    {
     "data": {
      "text/plain": [
       "'O'"
      ]
     },
     "execution_count": 14,
     "metadata": {},
     "output_type": "execute_result"
    }
   ],
   "source": [
    "s[-3]"
   ]
  },
  {
   "cell_type": "markdown",
   "id": "d1927160",
   "metadata": {},
   "source": [
    "# Slicing\n",
    "\n",
    "- Extracts the substring from string\n",
    "- syntax : start position will skip count/Direction\n",
    "- start position included, end position excluded"
   ]
  },
  {
   "cell_type": "code",
   "execution_count": 15,
   "id": "4fab1104",
   "metadata": {
    "ExecuteTime": {
     "end_time": "2023-03-08T09:48:16.168346Z",
     "start_time": "2023-03-08T09:48:16.155372Z"
    }
   },
   "outputs": [
    {
     "data": {
      "text/plain": [
       "'WEL'"
      ]
     },
     "execution_count": 15,
     "metadata": {},
     "output_type": "execute_result"
    }
   ],
   "source": [
    "s[0:3]"
   ]
  },
  {
   "cell_type": "code",
   "execution_count": 16,
   "id": "bbe79f05",
   "metadata": {
    "ExecuteTime": {
     "end_time": "2023-03-08T09:48:16.183720Z",
     "start_time": "2023-03-08T09:48:16.171914Z"
    }
   },
   "outputs": [
    {
     "data": {
      "text/plain": [
       "'COME'"
      ]
     },
     "execution_count": 16,
     "metadata": {},
     "output_type": "execute_result"
    }
   ],
   "source": [
    "s[3:]"
   ]
  },
  {
   "cell_type": "code",
   "execution_count": 17,
   "id": "49c971fd",
   "metadata": {
    "ExecuteTime": {
     "end_time": "2023-03-08T09:48:16.199796Z",
     "start_time": "2023-03-08T09:48:16.185789Z"
    }
   },
   "outputs": [
    {
     "data": {
      "text/plain": [
       "'WELC'"
      ]
     },
     "execution_count": 17,
     "metadata": {},
     "output_type": "execute_result"
    }
   ],
   "source": [
    "s[:4]"
   ]
  },
  {
   "cell_type": "code",
   "execution_count": 18,
   "id": "792013e5",
   "metadata": {
    "ExecuteTime": {
     "end_time": "2023-03-08T09:48:16.214786Z",
     "start_time": "2023-03-08T09:48:16.205719Z"
    }
   },
   "outputs": [
    {
     "data": {
      "text/plain": [
       "'WELCOME'"
      ]
     },
     "execution_count": 18,
     "metadata": {},
     "output_type": "execute_result"
    }
   ],
   "source": [
    "s[:]"
   ]
  },
  {
   "cell_type": "code",
   "execution_count": 19,
   "id": "54e715fc",
   "metadata": {
    "ExecuteTime": {
     "end_time": "2023-03-08T09:48:16.229738Z",
     "start_time": "2023-03-08T09:48:16.216720Z"
    }
   },
   "outputs": [
    {
     "data": {
      "text/plain": [
       "'WLOE'"
      ]
     },
     "execution_count": 19,
     "metadata": {},
     "output_type": "execute_result"
    }
   ],
   "source": [
    "s[::2]"
   ]
  },
  {
   "cell_type": "code",
   "execution_count": 20,
   "id": "b5c9cacf",
   "metadata": {
    "ExecuteTime": {
     "end_time": "2023-03-08T09:48:16.245508Z",
     "start_time": "2023-03-08T09:48:16.235485Z"
    }
   },
   "outputs": [
    {
     "data": {
      "text/plain": [
       "'WCE'"
      ]
     },
     "execution_count": 20,
     "metadata": {},
     "output_type": "execute_result"
    }
   ],
   "source": [
    "s[::3]"
   ]
  },
  {
   "cell_type": "code",
   "execution_count": 21,
   "id": "389f1f4d",
   "metadata": {
    "ExecuteTime": {
     "end_time": "2023-03-08T09:48:16.261583Z",
     "start_time": "2023-03-08T09:48:16.246508Z"
    }
   },
   "outputs": [
    {
     "data": {
      "text/plain": [
       "'EMOCLEW'"
      ]
     },
     "execution_count": 21,
     "metadata": {},
     "output_type": "execute_result"
    }
   ],
   "source": [
    "s[::-1]"
   ]
  },
  {
   "cell_type": "code",
   "execution_count": 22,
   "id": "df18d3eb",
   "metadata": {
    "ExecuteTime": {
     "end_time": "2023-03-08T09:48:16.277318Z",
     "start_time": "2023-03-08T09:48:16.263588Z"
    }
   },
   "outputs": [
    {
     "data": {
      "text/plain": [
       "'EOLW'"
      ]
     },
     "execution_count": 22,
     "metadata": {},
     "output_type": "execute_result"
    }
   ],
   "source": [
    "s[::-2]"
   ]
  },
  {
   "cell_type": "code",
   "execution_count": 23,
   "id": "ca29aaa5",
   "metadata": {
    "ExecuteTime": {
     "end_time": "2023-03-08T09:48:16.292463Z",
     "start_time": "2023-03-08T09:48:16.279318Z"
    }
   },
   "outputs": [
    {
     "data": {
      "text/plain": [
       "4"
      ]
     },
     "execution_count": 23,
     "metadata": {},
     "output_type": "execute_result"
    }
   ],
   "source": [
    "s.index('O')"
   ]
  },
  {
   "cell_type": "code",
   "execution_count": 24,
   "id": "41456754",
   "metadata": {
    "ExecuteTime": {
     "end_time": "2023-03-08T09:48:16.307669Z",
     "start_time": "2023-03-08T09:48:16.297527Z"
    }
   },
   "outputs": [],
   "source": [
    "o = 'welcome'"
   ]
  },
  {
   "cell_type": "code",
   "execution_count": 25,
   "id": "14c547ca",
   "metadata": {
    "ExecuteTime": {
     "end_time": "2023-03-08T09:48:16.322832Z",
     "start_time": "2023-03-08T09:48:16.309767Z"
    }
   },
   "outputs": [
    {
     "data": {
      "text/plain": [
       "'WELCOMEwelcome'"
      ]
     },
     "execution_count": 25,
     "metadata": {},
     "output_type": "execute_result"
    }
   ],
   "source": [
    "s + o"
   ]
  },
  {
   "cell_type": "code",
   "execution_count": 26,
   "id": "b5d3677b",
   "metadata": {
    "ExecuteTime": {
     "end_time": "2023-03-08T09:48:16.338562Z",
     "start_time": "2023-03-08T09:48:16.324003Z"
    }
   },
   "outputs": [
    {
     "data": {
      "text/plain": [
       "'WELCOMEWELCOMEWELCOME'"
      ]
     },
     "execution_count": 26,
     "metadata": {},
     "output_type": "execute_result"
    }
   ],
   "source": [
    "s * 3"
   ]
  },
  {
   "cell_type": "code",
   "execution_count": 27,
   "id": "502dc41e",
   "metadata": {
    "ExecuteTime": {
     "end_time": "2023-03-08T09:48:16.353853Z",
     "start_time": "2023-03-08T09:48:16.342056Z"
    }
   },
   "outputs": [
    {
     "data": {
      "text/plain": [
       "'WELCOME10'"
      ]
     },
     "execution_count": 27,
     "metadata": {},
     "output_type": "execute_result"
    }
   ],
   "source": [
    "s + '10'  # we convert int into string by putting into quotes"
   ]
  },
  {
   "cell_type": "markdown",
   "id": "6b2091f6",
   "metadata": {},
   "source": [
    "# List\n",
    "\n",
    "- Ordered collection of elements/object/items\n",
    "- It represented in square bracket [ ]\n",
    "- It is mutable"
   ]
  },
  {
   "cell_type": "code",
   "execution_count": 28,
   "id": "49cd4feb",
   "metadata": {
    "ExecuteTime": {
     "end_time": "2023-03-08T09:48:16.369165Z",
     "start_time": "2023-03-08T09:48:16.356303Z"
    }
   },
   "outputs": [],
   "source": [
    "languages = ['c', 'java', 'python', 'cpp']"
   ]
  },
  {
   "cell_type": "code",
   "execution_count": 29,
   "id": "17b2ce2e",
   "metadata": {
    "ExecuteTime": {
     "end_time": "2023-03-08T09:48:16.385167Z",
     "start_time": "2023-03-08T09:48:16.376167Z"
    }
   },
   "outputs": [
    {
     "data": {
      "text/plain": [
       "['c', 'java', 'python', 'cpp']"
      ]
     },
     "execution_count": 29,
     "metadata": {},
     "output_type": "execute_result"
    }
   ],
   "source": [
    "languages"
   ]
  },
  {
   "cell_type": "code",
   "execution_count": 30,
   "id": "fc7be33a",
   "metadata": {
    "ExecuteTime": {
     "end_time": "2023-03-08T09:48:16.400055Z",
     "start_time": "2023-03-08T09:48:16.387606Z"
    }
   },
   "outputs": [
    {
     "data": {
      "text/plain": [
       "list"
      ]
     },
     "execution_count": 30,
     "metadata": {},
     "output_type": "execute_result"
    }
   ],
   "source": [
    "type(languages)"
   ]
  },
  {
   "cell_type": "code",
   "execution_count": 31,
   "id": "239a5feb",
   "metadata": {
    "ExecuteTime": {
     "end_time": "2023-03-08T09:48:16.416185Z",
     "start_time": "2023-03-08T09:48:16.402078Z"
    }
   },
   "outputs": [
    {
     "data": {
      "text/plain": [
       "'c'"
      ]
     },
     "execution_count": 31,
     "metadata": {},
     "output_type": "execute_result"
    }
   ],
   "source": [
    "languages[0]"
   ]
  },
  {
   "cell_type": "code",
   "execution_count": 32,
   "id": "6178a988",
   "metadata": {
    "ExecuteTime": {
     "end_time": "2023-03-08T09:48:16.431254Z",
     "start_time": "2023-03-08T09:48:16.417290Z"
    }
   },
   "outputs": [
    {
     "data": {
      "text/plain": [
       "'java'"
      ]
     },
     "execution_count": 32,
     "metadata": {},
     "output_type": "execute_result"
    }
   ],
   "source": [
    "languages[-3]"
   ]
  },
  {
   "cell_type": "code",
   "execution_count": 33,
   "id": "84037895",
   "metadata": {
    "ExecuteTime": {
     "end_time": "2023-03-08T09:48:16.447299Z",
     "start_time": "2023-03-08T09:48:16.435206Z"
    }
   },
   "outputs": [
    {
     "data": {
      "text/plain": [
       "'j'"
      ]
     },
     "execution_count": 33,
     "metadata": {},
     "output_type": "execute_result"
    }
   ],
   "source": [
    "languages[-3][0]"
   ]
  },
  {
   "cell_type": "code",
   "execution_count": 34,
   "id": "b9872860",
   "metadata": {
    "ExecuteTime": {
     "end_time": "2023-03-08T09:48:16.462434Z",
     "start_time": "2023-03-08T09:48:16.450359Z"
    }
   },
   "outputs": [
    {
     "data": {
      "text/plain": [
       "['c', 'java', 'python', ['pandas', 'numpy', 'matplotlib']]"
      ]
     },
     "execution_count": 34,
     "metadata": {},
     "output_type": "execute_result"
    }
   ],
   "source": [
    "languages[3] = ['pandas', 'numpy','matplotlib']\n",
    "languages"
   ]
  },
  {
   "cell_type": "code",
   "execution_count": 35,
   "id": "9346cc78",
   "metadata": {
    "ExecuteTime": {
     "end_time": "2023-03-08T09:48:16.478095Z",
     "start_time": "2023-03-08T09:48:16.464356Z"
    }
   },
   "outputs": [
    {
     "data": {
      "text/plain": [
       "'p'"
      ]
     },
     "execution_count": 35,
     "metadata": {},
     "output_type": "execute_result"
    }
   ],
   "source": [
    "languages[3][1][3]"
   ]
  },
  {
   "cell_type": "code",
   "execution_count": 36,
   "id": "58c57e6a",
   "metadata": {
    "ExecuteTime": {
     "end_time": "2023-03-08T09:48:16.492855Z",
     "start_time": "2023-03-08T09:48:16.481908Z"
    }
   },
   "outputs": [],
   "source": [
    "f = 3.14"
   ]
  },
  {
   "cell_type": "code",
   "execution_count": 37,
   "id": "27dfa23e",
   "metadata": {
    "ExecuteTime": {
     "end_time": "2023-03-08T09:48:16.508061Z",
     "start_time": "2023-03-08T09:48:16.495851Z"
    }
   },
   "outputs": [
    {
     "data": {
      "text/plain": [
       "float"
      ]
     },
     "execution_count": 37,
     "metadata": {},
     "output_type": "execute_result"
    }
   ],
   "source": [
    "type(f)"
   ]
  },
  {
   "cell_type": "code",
   "execution_count": 38,
   "id": "a6369ce3",
   "metadata": {
    "ExecuteTime": {
     "end_time": "2023-03-08T09:48:16.525066Z",
     "start_time": "2023-03-08T09:48:16.510072Z"
    }
   },
   "outputs": [],
   "source": [
    "num = 23"
   ]
  },
  {
   "cell_type": "code",
   "execution_count": 39,
   "id": "d309100f",
   "metadata": {
    "ExecuteTime": {
     "end_time": "2023-03-08T09:48:16.540059Z",
     "start_time": "2023-03-08T09:48:16.529100Z"
    }
   },
   "outputs": [
    {
     "data": {
      "text/plain": [
       "int"
      ]
     },
     "execution_count": 39,
     "metadata": {},
     "output_type": "execute_result"
    }
   ],
   "source": [
    "type(num)"
   ]
  },
  {
   "cell_type": "code",
   "execution_count": 40,
   "id": "3a6437a0",
   "metadata": {
    "ExecuteTime": {
     "end_time": "2023-03-08T09:48:16.556182Z",
     "start_time": "2023-03-08T09:48:16.546060Z"
    }
   },
   "outputs": [],
   "source": [
    "o = 'welcome'"
   ]
  },
  {
   "cell_type": "code",
   "execution_count": 41,
   "id": "f645dcf0",
   "metadata": {
    "ExecuteTime": {
     "end_time": "2023-03-08T09:48:16.587315Z",
     "start_time": "2023-03-08T09:48:16.567423Z"
    }
   },
   "outputs": [
    {
     "data": {
      "text/plain": [
       "str"
      ]
     },
     "execution_count": 41,
     "metadata": {},
     "output_type": "execute_result"
    }
   ],
   "source": [
    "type(o)"
   ]
  },
  {
   "cell_type": "code",
   "execution_count": 42,
   "id": "bdd09f16",
   "metadata": {
    "ExecuteTime": {
     "end_time": "2023-03-08T09:48:16.602520Z",
     "start_time": "2023-03-08T09:48:16.592313Z"
    }
   },
   "outputs": [],
   "source": [
    "m = True"
   ]
  },
  {
   "cell_type": "code",
   "execution_count": 43,
   "id": "8c8320bb",
   "metadata": {
    "ExecuteTime": {
     "end_time": "2023-03-08T09:48:16.618027Z",
     "start_time": "2023-03-08T09:48:16.607109Z"
    }
   },
   "outputs": [
    {
     "data": {
      "text/plain": [
       "bool"
      ]
     },
     "execution_count": 43,
     "metadata": {},
     "output_type": "execute_result"
    }
   ],
   "source": [
    "type(m)"
   ]
  },
  {
   "cell_type": "code",
   "execution_count": 44,
   "id": "d7c0338e",
   "metadata": {
    "ExecuteTime": {
     "end_time": "2023-03-08T09:48:16.633258Z",
     "start_time": "2023-03-08T09:48:16.621319Z"
    }
   },
   "outputs": [],
   "source": [
    "a = 3 + 2j"
   ]
  },
  {
   "cell_type": "code",
   "execution_count": 45,
   "id": "8a0ec38f",
   "metadata": {
    "ExecuteTime": {
     "end_time": "2023-03-08T09:48:16.653257Z",
     "start_time": "2023-03-08T09:48:16.635258Z"
    }
   },
   "outputs": [
    {
     "data": {
      "text/plain": [
       "complex"
      ]
     },
     "execution_count": 45,
     "metadata": {},
     "output_type": "execute_result"
    }
   ],
   "source": [
    "type(a)"
   ]
  },
  {
   "cell_type": "code",
   "execution_count": 46,
   "id": "99248a5b",
   "metadata": {
    "ExecuteTime": {
     "end_time": "2023-03-08T09:48:16.665260Z",
     "start_time": "2023-03-08T09:48:16.656257Z"
    }
   },
   "outputs": [
    {
     "data": {
      "text/plain": [
       "4.5"
      ]
     },
     "execution_count": 46,
     "metadata": {},
     "output_type": "execute_result"
    }
   ],
   "source": [
    "# Division \n",
    "\n",
    "18/4"
   ]
  },
  {
   "cell_type": "code",
   "execution_count": 47,
   "id": "0569cc3e",
   "metadata": {
    "ExecuteTime": {
     "end_time": "2023-03-08T09:48:16.681262Z",
     "start_time": "2023-03-08T09:48:16.668256Z"
    }
   },
   "outputs": [
    {
     "data": {
      "text/plain": [
       "4"
      ]
     },
     "execution_count": 47,
     "metadata": {},
     "output_type": "execute_result"
    }
   ],
   "source": [
    "18//4     # It removes the decimal point or make it round figure"
   ]
  },
  {
   "cell_type": "markdown",
   "id": "0304ae00",
   "metadata": {},
   "source": [
    "# List Operations"
   ]
  },
  {
   "cell_type": "code",
   "execution_count": 48,
   "id": "c0b971a0",
   "metadata": {
    "ExecuteTime": {
     "end_time": "2023-03-08T09:48:16.696890Z",
     "start_time": "2023-03-08T09:48:16.684687Z"
    }
   },
   "outputs": [],
   "source": [
    "# Append : Always add an element/object at the end of the list"
   ]
  },
  {
   "cell_type": "code",
   "execution_count": 49,
   "id": "984088c2",
   "metadata": {
    "ExecuteTime": {
     "end_time": "2023-03-08T09:48:16.712371Z",
     "start_time": "2023-03-08T09:48:16.699051Z"
    }
   },
   "outputs": [],
   "source": [
    "cars = ['Mercedese', 'Fortuner', 'Skoda', 'Maybach', 'Audi', 'XUV', 'Lamborghini']"
   ]
  },
  {
   "cell_type": "code",
   "execution_count": 50,
   "id": "0eff4096",
   "metadata": {
    "ExecuteTime": {
     "end_time": "2023-03-08T09:48:16.728021Z",
     "start_time": "2023-03-08T09:48:16.714539Z"
    }
   },
   "outputs": [
    {
     "data": {
      "text/plain": [
       "list"
      ]
     },
     "execution_count": 50,
     "metadata": {},
     "output_type": "execute_result"
    }
   ],
   "source": [
    "type(cars)"
   ]
  },
  {
   "cell_type": "code",
   "execution_count": 51,
   "id": "2086d10e",
   "metadata": {
    "ExecuteTime": {
     "end_time": "2023-03-08T09:48:16.743339Z",
     "start_time": "2023-03-08T09:48:16.730292Z"
    }
   },
   "outputs": [
    {
     "data": {
      "text/plain": [
       "['Mercedese',\n",
       " 'Fortuner',\n",
       " 'Skoda',\n",
       " 'Maybach',\n",
       " 'Audi',\n",
       " 'XUV',\n",
       " 'Lamborghini',\n",
       " 'Polo']"
      ]
     },
     "execution_count": 51,
     "metadata": {},
     "output_type": "execute_result"
    }
   ],
   "source": [
    "cars.append('Polo')\n",
    "cars"
   ]
  },
  {
   "cell_type": "code",
   "execution_count": 52,
   "id": "2363a770",
   "metadata": {
    "ExecuteTime": {
     "end_time": "2023-03-08T09:48:16.758992Z",
     "start_time": "2023-03-08T09:48:16.748561Z"
    }
   },
   "outputs": [],
   "source": [
    "# Insert : Inserts an elements/object at specified index"
   ]
  },
  {
   "cell_type": "code",
   "execution_count": 53,
   "id": "34b7b810",
   "metadata": {
    "ExecuteTime": {
     "end_time": "2023-03-08T09:48:16.774152Z",
     "start_time": "2023-03-08T09:48:16.761990Z"
    }
   },
   "outputs": [],
   "source": [
    "cars.insert(1, 'Thar')"
   ]
  },
  {
   "cell_type": "code",
   "execution_count": 54,
   "id": "a6dab212",
   "metadata": {
    "ExecuteTime": {
     "end_time": "2023-03-08T09:48:16.789793Z",
     "start_time": "2023-03-08T09:48:16.778394Z"
    }
   },
   "outputs": [
    {
     "data": {
      "text/plain": [
       "['Mercedese',\n",
       " 'Thar',\n",
       " 'Fortuner',\n",
       " 'Skoda',\n",
       " 'Maybach',\n",
       " 'Audi',\n",
       " 'XUV',\n",
       " 'Lamborghini',\n",
       " 'Polo']"
      ]
     },
     "execution_count": 54,
     "metadata": {},
     "output_type": "execute_result"
    }
   ],
   "source": [
    "cars"
   ]
  },
  {
   "cell_type": "code",
   "execution_count": 55,
   "id": "13f3c914",
   "metadata": {
    "ExecuteTime": {
     "end_time": "2023-03-08T09:48:16.804861Z",
     "start_time": "2023-03-08T09:48:16.792809Z"
    }
   },
   "outputs": [],
   "source": [
    "# Remove : Remove an element"
   ]
  },
  {
   "cell_type": "code",
   "execution_count": 56,
   "id": "a3ca67bb",
   "metadata": {
    "ExecuteTime": {
     "end_time": "2023-03-08T09:48:16.820071Z",
     "start_time": "2023-03-08T09:48:16.807071Z"
    }
   },
   "outputs": [
    {
     "data": {
      "text/plain": [
       "['Mercedese',\n",
       " 'Thar',\n",
       " 'Fortuner',\n",
       " 'Skoda',\n",
       " 'Maybach',\n",
       " 'Audi',\n",
       " 'XUV',\n",
       " 'Lamborghini',\n",
       " 'Polo']"
      ]
     },
     "execution_count": 56,
     "metadata": {},
     "output_type": "execute_result"
    }
   ],
   "source": [
    "cars"
   ]
  },
  {
   "cell_type": "code",
   "execution_count": 57,
   "id": "f33f4fac",
   "metadata": {
    "ExecuteTime": {
     "end_time": "2023-03-08T09:48:16.835484Z",
     "start_time": "2023-03-08T09:48:16.824073Z"
    }
   },
   "outputs": [
    {
     "data": {
      "text/plain": [
       "['Mercedese',\n",
       " 'Thar',\n",
       " 'Fortuner',\n",
       " 'Skoda',\n",
       " 'Maybach',\n",
       " 'Audi',\n",
       " 'XUV',\n",
       " 'Lamborghini']"
      ]
     },
     "execution_count": 57,
     "metadata": {},
     "output_type": "execute_result"
    }
   ],
   "source": [
    "cars.remove('Polo')\n",
    "cars"
   ]
  },
  {
   "cell_type": "code",
   "execution_count": 58,
   "id": "2a61242f",
   "metadata": {
    "ExecuteTime": {
     "end_time": "2023-03-08T09:48:16.851475Z",
     "start_time": "2023-03-08T09:48:16.840406Z"
    }
   },
   "outputs": [],
   "source": [
    "# Pop : Removes an element based on index, by default it is -1 "
   ]
  },
  {
   "cell_type": "code",
   "execution_count": 59,
   "id": "e9ea6d83",
   "metadata": {
    "ExecuteTime": {
     "end_time": "2023-03-08T09:48:16.866794Z",
     "start_time": "2023-03-08T09:48:16.854451Z"
    }
   },
   "outputs": [
    {
     "data": {
      "text/plain": [
       "'Lamborghini'"
      ]
     },
     "execution_count": 59,
     "metadata": {},
     "output_type": "execute_result"
    }
   ],
   "source": [
    "cars.pop(-1)"
   ]
  },
  {
   "cell_type": "code",
   "execution_count": 60,
   "id": "a07da651",
   "metadata": {
    "ExecuteTime": {
     "end_time": "2023-03-08T09:48:16.881999Z",
     "start_time": "2023-03-08T09:48:16.868885Z"
    }
   },
   "outputs": [
    {
     "data": {
      "text/plain": [
       "'Skoda'"
      ]
     },
     "execution_count": 60,
     "metadata": {},
     "output_type": "execute_result"
    }
   ],
   "source": [
    "cars.pop(3)"
   ]
  },
  {
   "cell_type": "code",
   "execution_count": 61,
   "id": "e9dcc87f",
   "metadata": {
    "ExecuteTime": {
     "end_time": "2023-03-08T09:48:16.898048Z",
     "start_time": "2023-03-08T09:48:16.883752Z"
    }
   },
   "outputs": [],
   "source": [
    "# Using del keyword"
   ]
  },
  {
   "cell_type": "code",
   "execution_count": 62,
   "id": "376d58b0",
   "metadata": {
    "ExecuteTime": {
     "end_time": "2023-03-08T09:48:16.913495Z",
     "start_time": "2023-03-08T09:48:16.900819Z"
    }
   },
   "outputs": [
    {
     "data": {
      "text/plain": [
       "6"
      ]
     },
     "execution_count": 62,
     "metadata": {},
     "output_type": "execute_result"
    }
   ],
   "source": [
    "len(cars)"
   ]
  },
  {
   "cell_type": "code",
   "execution_count": 63,
   "id": "f4d5c75f",
   "metadata": {
    "ExecuteTime": {
     "end_time": "2023-03-08T09:48:16.928723Z",
     "start_time": "2023-03-08T09:48:16.915722Z"
    }
   },
   "outputs": [],
   "source": [
    "del cars[2]"
   ]
  },
  {
   "cell_type": "code",
   "execution_count": 64,
   "id": "9a752624",
   "metadata": {
    "ExecuteTime": {
     "end_time": "2023-03-08T09:48:16.944245Z",
     "start_time": "2023-03-08T09:48:16.930724Z"
    }
   },
   "outputs": [
    {
     "data": {
      "text/plain": [
       "['Mercedese', 'Thar', 'Maybach', 'Audi', 'XUV']"
      ]
     },
     "execution_count": 64,
     "metadata": {},
     "output_type": "execute_result"
    }
   ],
   "source": [
    "cars"
   ]
  },
  {
   "cell_type": "code",
   "execution_count": 65,
   "id": "9d8e9766",
   "metadata": {
    "ExecuteTime": {
     "end_time": "2023-03-08T09:48:16.959244Z",
     "start_time": "2023-03-08T09:48:16.947246Z"
    }
   },
   "outputs": [],
   "source": [
    "del cars[:4]"
   ]
  },
  {
   "cell_type": "code",
   "execution_count": 66,
   "id": "8490db57",
   "metadata": {
    "ExecuteTime": {
     "end_time": "2023-03-08T09:48:16.975244Z",
     "start_time": "2023-03-08T09:48:16.961243Z"
    }
   },
   "outputs": [
    {
     "data": {
      "text/plain": [
       "['XUV']"
      ]
     },
     "execution_count": 66,
     "metadata": {},
     "output_type": "execute_result"
    }
   ],
   "source": [
    "cars"
   ]
  },
  {
   "cell_type": "code",
   "execution_count": 67,
   "id": "d1dcd145",
   "metadata": {
    "ExecuteTime": {
     "end_time": "2023-03-08T09:48:16.990287Z",
     "start_time": "2023-03-08T09:48:16.977243Z"
    }
   },
   "outputs": [],
   "source": [
    "num = [100,200,300]"
   ]
  },
  {
   "cell_type": "code",
   "execution_count": 68,
   "id": "bc4bf5fc",
   "metadata": {
    "ExecuteTime": {
     "end_time": "2023-03-08T09:48:17.005960Z",
     "start_time": "2023-03-08T09:48:16.992293Z"
    }
   },
   "outputs": [],
   "source": [
    "cars.append(num)"
   ]
  },
  {
   "cell_type": "code",
   "execution_count": 69,
   "id": "2bfe19b1",
   "metadata": {
    "ExecuteTime": {
     "end_time": "2023-03-08T09:48:17.021952Z",
     "start_time": "2023-03-08T09:48:17.008951Z"
    }
   },
   "outputs": [
    {
     "data": {
      "text/plain": [
       "['XUV', [100, 200, 300]]"
      ]
     },
     "execution_count": 69,
     "metadata": {},
     "output_type": "execute_result"
    }
   ],
   "source": [
    "cars"
   ]
  },
  {
   "cell_type": "code",
   "execution_count": 70,
   "id": "54e93e8b",
   "metadata": {
    "ExecuteTime": {
     "end_time": "2023-03-08T09:48:17.037682Z",
     "start_time": "2023-03-08T09:48:17.023951Z"
    }
   },
   "outputs": [
    {
     "data": {
      "text/plain": [
       "[100, 200, 300]"
      ]
     },
     "execution_count": 70,
     "metadata": {},
     "output_type": "execute_result"
    }
   ],
   "source": [
    "cars[-1]"
   ]
  },
  {
   "cell_type": "code",
   "execution_count": 71,
   "id": "f997acac",
   "metadata": {
    "ExecuteTime": {
     "end_time": "2023-03-08T09:48:17.053428Z",
     "start_time": "2023-03-08T09:48:17.042148Z"
    }
   },
   "outputs": [
    {
     "data": {
      "text/plain": [
       "100"
      ]
     },
     "execution_count": 71,
     "metadata": {},
     "output_type": "execute_result"
    }
   ],
   "source": [
    "cars[-1][0]"
   ]
  },
  {
   "cell_type": "code",
   "execution_count": 72,
   "id": "fa953416",
   "metadata": {
    "ExecuteTime": {
     "end_time": "2023-03-08T09:48:17.068488Z",
     "start_time": "2023-03-08T09:48:17.058569Z"
    }
   },
   "outputs": [],
   "source": [
    "# Extend"
   ]
  },
  {
   "cell_type": "code",
   "execution_count": 73,
   "id": "4bda5022",
   "metadata": {
    "ExecuteTime": {
     "end_time": "2023-03-08T09:48:17.083901Z",
     "start_time": "2023-03-08T09:48:17.072266Z"
    }
   },
   "outputs": [],
   "source": [
    "coffee = ['Latte', 'Irish', 'Espresso']"
   ]
  },
  {
   "cell_type": "code",
   "execution_count": 74,
   "id": "e2c46094",
   "metadata": {
    "ExecuteTime": {
     "end_time": "2023-03-08T09:48:17.099157Z",
     "start_time": "2023-03-08T09:48:17.086157Z"
    }
   },
   "outputs": [],
   "source": [
    "cars.extend(coffee)"
   ]
  },
  {
   "cell_type": "code",
   "execution_count": 75,
   "id": "54f14ad1",
   "metadata": {
    "ExecuteTime": {
     "end_time": "2023-03-08T09:48:17.115228Z",
     "start_time": "2023-03-08T09:48:17.101184Z"
    }
   },
   "outputs": [
    {
     "data": {
      "text/plain": [
       "['XUV', [100, 200, 300], 'Latte', 'Irish', 'Espresso']"
      ]
     },
     "execution_count": 75,
     "metadata": {},
     "output_type": "execute_result"
    }
   ],
   "source": [
    "cars"
   ]
  },
  {
   "cell_type": "code",
   "execution_count": 76,
   "id": "457095c7",
   "metadata": {
    "ExecuteTime": {
     "end_time": "2023-03-08T09:48:17.131129Z",
     "start_time": "2023-03-08T09:48:17.116853Z"
    }
   },
   "outputs": [],
   "source": [
    "# Count"
   ]
  },
  {
   "cell_type": "code",
   "execution_count": 77,
   "id": "1e990e23",
   "metadata": {
    "ExecuteTime": {
     "end_time": "2023-03-08T09:48:17.147066Z",
     "start_time": "2023-03-08T09:48:17.132059Z"
    }
   },
   "outputs": [
    {
     "data": {
      "text/plain": [
       "1"
      ]
     },
     "execution_count": 77,
     "metadata": {},
     "output_type": "execute_result"
    }
   ],
   "source": [
    "cars.count('XUV')"
   ]
  },
  {
   "cell_type": "code",
   "execution_count": 78,
   "id": "31448fef",
   "metadata": {
    "ExecuteTime": {
     "end_time": "2023-03-08T09:48:17.162158Z",
     "start_time": "2023-03-08T09:48:17.150159Z"
    }
   },
   "outputs": [],
   "source": [
    "# Index"
   ]
  },
  {
   "cell_type": "code",
   "execution_count": 79,
   "id": "39c087b7",
   "metadata": {
    "ExecuteTime": {
     "end_time": "2023-03-08T09:48:17.177546Z",
     "start_time": "2023-03-08T09:48:17.165158Z"
    }
   },
   "outputs": [
    {
     "data": {
      "text/plain": [
       "3"
      ]
     },
     "execution_count": 79,
     "metadata": {},
     "output_type": "execute_result"
    }
   ],
   "source": [
    "cars.index('Irish')"
   ]
  },
  {
   "cell_type": "code",
   "execution_count": 80,
   "id": "0b507986",
   "metadata": {
    "ExecuteTime": {
     "end_time": "2023-03-08T09:48:17.193553Z",
     "start_time": "2023-03-08T09:48:17.181557Z"
    }
   },
   "outputs": [],
   "source": [
    "# Sort"
   ]
  },
  {
   "cell_type": "code",
   "execution_count": 81,
   "id": "dd500345",
   "metadata": {
    "ExecuteTime": {
     "end_time": "2023-03-08T09:48:17.209164Z",
     "start_time": "2023-03-08T09:48:17.195160Z"
    }
   },
   "outputs": [],
   "source": [
    "iceCream = ['Pista', 'Vanilla', 'Strawberry', 'Mango', 'Chocolate']"
   ]
  },
  {
   "cell_type": "code",
   "execution_count": 82,
   "id": "03b538c1",
   "metadata": {
    "ExecuteTime": {
     "end_time": "2023-03-08T09:48:17.225169Z",
     "start_time": "2023-03-08T09:48:17.212165Z"
    }
   },
   "outputs": [],
   "source": [
    "iceCream.sort()"
   ]
  },
  {
   "cell_type": "code",
   "execution_count": 83,
   "id": "e8cea063",
   "metadata": {
    "ExecuteTime": {
     "end_time": "2023-03-08T09:48:17.241165Z",
     "start_time": "2023-03-08T09:48:17.227172Z"
    }
   },
   "outputs": [
    {
     "data": {
      "text/plain": [
       "['Chocolate', 'Mango', 'Pista', 'Strawberry', 'Vanilla']"
      ]
     },
     "execution_count": 83,
     "metadata": {},
     "output_type": "execute_result"
    }
   ],
   "source": [
    "iceCream"
   ]
  },
  {
   "cell_type": "code",
   "execution_count": 84,
   "id": "1ccbb367",
   "metadata": {
    "ExecuteTime": {
     "end_time": "2023-03-08T09:48:17.256400Z",
     "start_time": "2023-03-08T09:48:17.243166Z"
    }
   },
   "outputs": [],
   "source": [
    "nums = [600,400,200,50]"
   ]
  },
  {
   "cell_type": "code",
   "execution_count": 85,
   "id": "377e3335",
   "metadata": {
    "ExecuteTime": {
     "end_time": "2023-03-08T09:48:17.272693Z",
     "start_time": "2023-03-08T09:48:17.259327Z"
    }
   },
   "outputs": [
    {
     "data": {
      "text/plain": [
       "[50, 200, 400, 600]"
      ]
     },
     "execution_count": 85,
     "metadata": {},
     "output_type": "execute_result"
    }
   ],
   "source": [
    "nums.sort()\n",
    "nums"
   ]
  },
  {
   "cell_type": "code",
   "execution_count": 86,
   "id": "ab4f492c",
   "metadata": {
    "ExecuteTime": {
     "end_time": "2023-03-08T09:48:17.288749Z",
     "start_time": "2023-03-08T09:48:17.276310Z"
    }
   },
   "outputs": [],
   "source": [
    "# Tuple : Ordered collection of items, it is immutable"
   ]
  },
  {
   "cell_type": "code",
   "execution_count": 87,
   "id": "705ce731",
   "metadata": {
    "ExecuteTime": {
     "end_time": "2023-03-08T09:48:17.303879Z",
     "start_time": "2023-03-08T09:48:17.292671Z"
    }
   },
   "outputs": [],
   "source": [
    "food = ('Pasta', 'Pizza', 'Sandwich', 'Momos')"
   ]
  },
  {
   "cell_type": "code",
   "execution_count": 88,
   "id": "a4ce76d0",
   "metadata": {
    "ExecuteTime": {
     "end_time": "2023-03-08T09:48:17.319413Z",
     "start_time": "2023-03-08T09:48:17.308884Z"
    }
   },
   "outputs": [
    {
     "data": {
      "text/plain": [
       "tuple"
      ]
     },
     "execution_count": 88,
     "metadata": {},
     "output_type": "execute_result"
    }
   ],
   "source": [
    "type(food)"
   ]
  },
  {
   "cell_type": "code",
   "execution_count": 89,
   "id": "8e50b9d9",
   "metadata": {
    "ExecuteTime": {
     "end_time": "2023-03-08T09:48:17.334011Z",
     "start_time": "2023-03-08T09:48:17.324134Z"
    }
   },
   "outputs": [],
   "source": [
    "# Packing"
   ]
  },
  {
   "cell_type": "code",
   "execution_count": 90,
   "id": "1fb83c54",
   "metadata": {
    "ExecuteTime": {
     "end_time": "2023-03-08T09:48:17.349397Z",
     "start_time": "2023-03-08T09:48:17.337671Z"
    }
   },
   "outputs": [],
   "source": [
    "mo = 'Man', 23, 'Nashik'"
   ]
  },
  {
   "cell_type": "code",
   "execution_count": 91,
   "id": "61acb7ca",
   "metadata": {
    "ExecuteTime": {
     "end_time": "2023-03-08T09:48:17.364880Z",
     "start_time": "2023-03-08T09:48:17.353395Z"
    }
   },
   "outputs": [
    {
     "data": {
      "text/plain": [
       "('Man', 23, 'Nashik')"
      ]
     },
     "execution_count": 91,
     "metadata": {},
     "output_type": "execute_result"
    }
   ],
   "source": [
    "mo"
   ]
  },
  {
   "cell_type": "code",
   "execution_count": 92,
   "id": "a3b3f75c",
   "metadata": {
    "ExecuteTime": {
     "end_time": "2023-03-08T09:48:17.380810Z",
     "start_time": "2023-03-08T09:48:17.367489Z"
    }
   },
   "outputs": [
    {
     "data": {
      "text/plain": [
       "tuple"
      ]
     },
     "execution_count": 92,
     "metadata": {},
     "output_type": "execute_result"
    }
   ],
   "source": [
    "type(mo)"
   ]
  },
  {
   "cell_type": "code",
   "execution_count": 93,
   "id": "63fe618d",
   "metadata": {
    "ExecuteTime": {
     "end_time": "2023-03-08T09:48:17.396221Z",
     "start_time": "2023-03-08T09:48:17.382782Z"
    }
   },
   "outputs": [],
   "source": [
    "name , age, team = 'Virat', 34, 'RCB'"
   ]
  },
  {
   "cell_type": "code",
   "execution_count": 94,
   "id": "1b016acf",
   "metadata": {
    "ExecuteTime": {
     "end_time": "2023-03-08T09:48:17.412157Z",
     "start_time": "2023-03-08T09:48:17.398474Z"
    }
   },
   "outputs": [
    {
     "data": {
      "text/plain": [
       "str"
      ]
     },
     "execution_count": 94,
     "metadata": {},
     "output_type": "execute_result"
    }
   ],
   "source": [
    "type(name)"
   ]
  },
  {
   "cell_type": "code",
   "execution_count": 95,
   "id": "cfc69aee",
   "metadata": {
    "ExecuteTime": {
     "end_time": "2023-03-08T09:48:17.427968Z",
     "start_time": "2023-03-08T09:48:17.414165Z"
    }
   },
   "outputs": [
    {
     "data": {
      "text/plain": [
       "('Virat', 34, 'RCB')"
      ]
     },
     "execution_count": 95,
     "metadata": {},
     "output_type": "execute_result"
    }
   ],
   "source": [
    "name , age, team "
   ]
  },
  {
   "cell_type": "code",
   "execution_count": 96,
   "id": "495267d4",
   "metadata": {
    "ExecuteTime": {
     "end_time": "2023-03-08T09:48:17.443964Z",
     "start_time": "2023-03-08T09:48:17.429927Z"
    }
   },
   "outputs": [
    {
     "data": {
      "text/plain": [
       "'Virat'"
      ]
     },
     "execution_count": 96,
     "metadata": {},
     "output_type": "execute_result"
    }
   ],
   "source": [
    "name"
   ]
  },
  {
   "cell_type": "code",
   "execution_count": 98,
   "id": "f44aa8e3",
   "metadata": {
    "ExecuteTime": {
     "end_time": "2023-03-08T09:48:33.618724Z",
     "start_time": "2023-03-08T09:48:33.598613Z"
    }
   },
   "outputs": [],
   "source": [
    "name , age, *team = 'Virat', 34, 'RCB', 'India'"
   ]
  },
  {
   "cell_type": "markdown",
   "id": "48577955",
   "metadata": {},
   "source": [
    "# In operators"
   ]
  },
  {
   "cell_type": "code",
   "execution_count": 99,
   "id": "4d900019",
   "metadata": {
    "ExecuteTime": {
     "end_time": "2023-03-08T09:49:44.484406Z",
     "start_time": "2023-03-08T09:49:44.464384Z"
    }
   },
   "outputs": [],
   "source": [
    "players = ('virat', 'RCB',[110, 135], 'India')"
   ]
  },
  {
   "cell_type": "code",
   "execution_count": 100,
   "id": "27547595",
   "metadata": {
    "ExecuteTime": {
     "end_time": "2023-03-08T09:50:07.691714Z",
     "start_time": "2023-03-08T09:50:07.665436Z"
    }
   },
   "outputs": [
    {
     "data": {
      "text/plain": [
       "True"
      ]
     },
     "execution_count": 100,
     "metadata": {},
     "output_type": "execute_result"
    }
   ],
   "source": [
    "'virat' in players"
   ]
  },
  {
   "cell_type": "code",
   "execution_count": 101,
   "id": "c43160d5",
   "metadata": {
    "ExecuteTime": {
     "end_time": "2023-03-08T09:50:20.396094Z",
     "start_time": "2023-03-08T09:50:20.376869Z"
    }
   },
   "outputs": [
    {
     "data": {
      "text/plain": [
       "False"
      ]
     },
     "execution_count": 101,
     "metadata": {},
     "output_type": "execute_result"
    }
   ],
   "source": [
    "'rohit' in players"
   ]
  },
  {
   "cell_type": "code",
   "execution_count": 110,
   "id": "c2a35b1d",
   "metadata": {
    "ExecuteTime": {
     "end_time": "2023-03-08T09:51:48.975069Z",
     "start_time": "2023-03-08T09:51:48.953459Z"
    }
   },
   "outputs": [],
   "source": [
    "s = 'WELCOME'"
   ]
  },
  {
   "cell_type": "code",
   "execution_count": 113,
   "id": "e88fd28e",
   "metadata": {
    "ExecuteTime": {
     "end_time": "2023-03-08T09:52:25.478842Z",
     "start_time": "2023-03-08T09:52:25.455517Z"
    }
   },
   "outputs": [
    {
     "data": {
      "text/plain": [
       "True"
      ]
     },
     "execution_count": 113,
     "metadata": {},
     "output_type": "execute_result"
    }
   ],
   "source": [
    "'W' in s"
   ]
  },
  {
   "cell_type": "markdown",
   "id": "5f1e2acc",
   "metadata": {},
   "source": [
    "# Miscellaneous - String"
   ]
  },
  {
   "cell_type": "code",
   "execution_count": 118,
   "id": "51ef9888",
   "metadata": {
    "ExecuteTime": {
     "end_time": "2023-03-08T10:02:16.735176Z",
     "start_time": "2023-03-08T10:02:16.715109Z"
    }
   },
   "outputs": [],
   "source": [
    "location = 'C:\\\\newfolder'"
   ]
  },
  {
   "cell_type": "code",
   "execution_count": 119,
   "id": "d290c5b8",
   "metadata": {
    "ExecuteTime": {
     "end_time": "2023-03-08T10:02:19.680433Z",
     "start_time": "2023-03-08T10:02:19.659620Z"
    }
   },
   "outputs": [
    {
     "name": "stdout",
     "output_type": "stream",
     "text": [
      "C:\\newfolder\n"
     ]
    }
   ],
   "source": [
    "print(location)"
   ]
  },
  {
   "cell_type": "code",
   "execution_count": 120,
   "id": "ff908f7d",
   "metadata": {
    "ExecuteTime": {
     "end_time": "2023-03-08T10:02:23.678833Z",
     "start_time": "2023-03-08T10:02:23.660003Z"
    }
   },
   "outputs": [],
   "source": [
    "location = r'C:\\newfolder'  # r for raw string"
   ]
  },
  {
   "cell_type": "code",
   "execution_count": 121,
   "id": "421ad7e3",
   "metadata": {
    "ExecuteTime": {
     "end_time": "2023-03-08T10:02:27.991390Z",
     "start_time": "2023-03-08T10:02:27.971828Z"
    }
   },
   "outputs": [
    {
     "name": "stdout",
     "output_type": "stream",
     "text": [
      "C:\\newfolder\n"
     ]
    }
   ],
   "source": [
    "print(location)"
   ]
  },
  {
   "cell_type": "markdown",
   "id": "285a451f",
   "metadata": {},
   "source": [
    "# Format"
   ]
  },
  {
   "cell_type": "code",
   "execution_count": 1,
   "id": "6b186867",
   "metadata": {
    "ExecuteTime": {
     "end_time": "2023-03-09T09:46:09.497627Z",
     "start_time": "2023-03-09T09:46:09.469055Z"
    }
   },
   "outputs": [],
   "source": [
    "sessioncount = 10"
   ]
  },
  {
   "cell_type": "code",
   "execution_count": 2,
   "id": "ea8bf4e1",
   "metadata": {
    "ExecuteTime": {
     "end_time": "2023-03-09T09:46:31.377122Z",
     "start_time": "2023-03-09T09:46:31.359595Z"
    }
   },
   "outputs": [],
   "source": [
    "chapter = 8"
   ]
  },
  {
   "cell_type": "code",
   "execution_count": 15,
   "id": "79ce9aef",
   "metadata": {
    "ExecuteTime": {
     "end_time": "2023-03-09T09:53:37.234535Z",
     "start_time": "2023-03-09T09:53:37.226538Z"
    }
   },
   "outputs": [],
   "source": [
    "msg = 'There will be ' + str(chapter) + ' chapters in the cource, spanned across ' + str(sessioncount) + ' sessions'"
   ]
  },
  {
   "cell_type": "code",
   "execution_count": 16,
   "id": "f24b5e0e",
   "metadata": {
    "ExecuteTime": {
     "end_time": "2023-03-09T09:53:41.135096Z",
     "start_time": "2023-03-09T09:53:41.118934Z"
    }
   },
   "outputs": [
    {
     "name": "stdout",
     "output_type": "stream",
     "text": [
      "There will be 8 chapters in the cource, spanned across 10 sessions\n"
     ]
    }
   ],
   "source": [
    "print(msg)"
   ]
  },
  {
   "cell_type": "code",
   "execution_count": 17,
   "id": "67c3e605",
   "metadata": {
    "ExecuteTime": {
     "end_time": "2023-03-09T09:57:03.436373Z",
     "start_time": "2023-03-09T09:57:03.429654Z"
    }
   },
   "outputs": [],
   "source": [
    "# apply format function"
   ]
  },
  {
   "cell_type": "code",
   "execution_count": 18,
   "id": "24fcf309",
   "metadata": {
    "ExecuteTime": {
     "end_time": "2023-03-09T09:59:03.945099Z",
     "start_time": "2023-03-09T09:59:03.921040Z"
    }
   },
   "outputs": [],
   "source": [
    "fmsg = 'There will be {} chapters in the cource spanned across {} sessions'.format(chapter, sessioncount)"
   ]
  },
  {
   "cell_type": "code",
   "execution_count": 19,
   "id": "c8ac5653",
   "metadata": {
    "ExecuteTime": {
     "end_time": "2023-03-09T09:59:16.705983Z",
     "start_time": "2023-03-09T09:59:16.683082Z"
    }
   },
   "outputs": [
    {
     "name": "stdout",
     "output_type": "stream",
     "text": [
      "There will be 8 chapters in the cource spanned across 10 sessions\n"
     ]
    }
   ],
   "source": [
    "print(fmsg)"
   ]
  },
  {
   "cell_type": "markdown",
   "id": "ed3b26fc",
   "metadata": {},
   "source": [
    "# Dictionaries\n",
    "\n",
    "- Collection of key value pairs\n",
    "- {}\n",
    "- It is mutable"
   ]
  },
  {
   "cell_type": "code",
   "execution_count": 20,
   "id": "aeea92c2",
   "metadata": {
    "ExecuteTime": {
     "end_time": "2023-03-09T10:12:32.596320Z",
     "start_time": "2023-03-09T10:12:32.577970Z"
    }
   },
   "outputs": [],
   "source": [
    "fruits = {'a':'apple', 'b':'banana', 'c':'cherry'}"
   ]
  },
  {
   "cell_type": "code",
   "execution_count": 21,
   "id": "8a625c88",
   "metadata": {
    "ExecuteTime": {
     "end_time": "2023-03-09T10:12:35.786210Z",
     "start_time": "2023-03-09T10:12:35.761499Z"
    }
   },
   "outputs": [
    {
     "data": {
      "text/plain": [
       "{'a': 'apple', 'b': 'banana', 'c': 'cherry'}"
      ]
     },
     "execution_count": 21,
     "metadata": {},
     "output_type": "execute_result"
    }
   ],
   "source": [
    "fruits"
   ]
  },
  {
   "cell_type": "code",
   "execution_count": 22,
   "id": "7ee3815a",
   "metadata": {
    "ExecuteTime": {
     "end_time": "2023-03-09T10:12:57.464982Z",
     "start_time": "2023-03-09T10:12:57.445093Z"
    }
   },
   "outputs": [
    {
     "data": {
      "text/plain": [
       "dict"
      ]
     },
     "execution_count": 22,
     "metadata": {},
     "output_type": "execute_result"
    }
   ],
   "source": [
    "type(fruits)"
   ]
  },
  {
   "cell_type": "code",
   "execution_count": 23,
   "id": "8158831c",
   "metadata": {
    "ExecuteTime": {
     "end_time": "2023-03-09T10:13:05.973963Z",
     "start_time": "2023-03-09T10:13:05.949430Z"
    }
   },
   "outputs": [
    {
     "data": {
      "text/plain": [
       "3"
      ]
     },
     "execution_count": 23,
     "metadata": {},
     "output_type": "execute_result"
    }
   ],
   "source": [
    "len(fruits)"
   ]
  },
  {
   "cell_type": "code",
   "execution_count": 24,
   "id": "9699bbe5",
   "metadata": {
    "ExecuteTime": {
     "end_time": "2023-03-09T10:16:44.606044Z",
     "start_time": "2023-03-09T10:16:44.586943Z"
    }
   },
   "outputs": [],
   "source": [
    "fruits['o'] = 'orange'"
   ]
  },
  {
   "cell_type": "code",
   "execution_count": 25,
   "id": "854f73f8",
   "metadata": {
    "ExecuteTime": {
     "end_time": "2023-03-09T10:16:48.523932Z",
     "start_time": "2023-03-09T10:16:48.509358Z"
    }
   },
   "outputs": [
    {
     "data": {
      "text/plain": [
       "{'a': 'apple', 'b': 'banana', 'c': 'cherry', 'o': 'orange'}"
      ]
     },
     "execution_count": 25,
     "metadata": {},
     "output_type": "execute_result"
    }
   ],
   "source": [
    "fruits"
   ]
  },
  {
   "cell_type": "code",
   "execution_count": 27,
   "id": "d66bb19f",
   "metadata": {
    "ExecuteTime": {
     "end_time": "2023-03-09T10:20:45.716492Z",
     "start_time": "2023-03-09T10:20:45.697151Z"
    }
   },
   "outputs": [
    {
     "data": {
      "text/plain": [
       "'apple'"
      ]
     },
     "execution_count": 27,
     "metadata": {},
     "output_type": "execute_result"
    }
   ],
   "source": [
    "fruits.pop('a')"
   ]
  },
  {
   "cell_type": "code",
   "execution_count": 28,
   "id": "f640e514",
   "metadata": {
    "ExecuteTime": {
     "end_time": "2023-03-09T10:20:51.835811Z",
     "start_time": "2023-03-09T10:20:51.817921Z"
    }
   },
   "outputs": [
    {
     "data": {
      "text/plain": [
       "{'b': 'banana', 'c': 'cherry', 'o': 'orange'}"
      ]
     },
     "execution_count": 28,
     "metadata": {},
     "output_type": "execute_result"
    }
   ],
   "source": [
    "fruits"
   ]
  },
  {
   "cell_type": "code",
   "execution_count": 29,
   "id": "088e66cd",
   "metadata": {
    "ExecuteTime": {
     "end_time": "2023-03-09T10:39:14.129432Z",
     "start_time": "2023-03-09T10:39:14.113380Z"
    }
   },
   "outputs": [],
   "source": [
    "# Make the sentence reverce"
   ]
  },
  {
   "cell_type": "code",
   "execution_count": 30,
   "id": "860a1e61",
   "metadata": {
    "ExecuteTime": {
     "end_time": "2023-03-09T10:39:44.744295Z",
     "start_time": "2023-03-09T10:39:44.730936Z"
    }
   },
   "outputs": [],
   "source": [
    "s = 'This is from vertexblue'"
   ]
  },
  {
   "cell_type": "code",
   "execution_count": 33,
   "id": "18ec6486",
   "metadata": {
    "ExecuteTime": {
     "end_time": "2023-03-09T10:42:16.239335Z",
     "start_time": "2023-03-09T10:42:16.223259Z"
    }
   },
   "outputs": [
    {
     "name": "stdout",
     "output_type": "stream",
     "text": [
      "vertexblue from is This\n"
     ]
    }
   ],
   "source": [
    "print(' '.join(s.split()[::-1]))"
   ]
  },
  {
   "cell_type": "markdown",
   "id": "7c39cd60",
   "metadata": {},
   "source": [
    "# Miscellaneous operations"
   ]
  },
  {
   "cell_type": "code",
   "execution_count": 34,
   "id": "9d6aa75d",
   "metadata": {
    "ExecuteTime": {
     "end_time": "2023-03-09T10:45:38.463202Z",
     "start_time": "2023-03-09T10:45:38.447721Z"
    }
   },
   "outputs": [
    {
     "data": {
      "text/plain": [
       "{'b': 'banana', 'c': 'cherry', 'o': 'orange'}"
      ]
     },
     "execution_count": 34,
     "metadata": {},
     "output_type": "execute_result"
    }
   ],
   "source": [
    "fruits"
   ]
  },
  {
   "cell_type": "code",
   "execution_count": 36,
   "id": "da51616b",
   "metadata": {
    "ExecuteTime": {
     "end_time": "2023-03-09T10:46:06.409492Z",
     "start_time": "2023-03-09T10:46:06.391951Z"
    }
   },
   "outputs": [
    {
     "data": {
      "text/plain": [
       "dict_keys(['b', 'c', 'o'])"
      ]
     },
     "execution_count": 36,
     "metadata": {},
     "output_type": "execute_result"
    }
   ],
   "source": [
    "fruits.keys()"
   ]
  },
  {
   "cell_type": "code",
   "execution_count": 37,
   "id": "ccf113b3",
   "metadata": {
    "ExecuteTime": {
     "end_time": "2023-03-09T10:46:16.919169Z",
     "start_time": "2023-03-09T10:46:16.909212Z"
    }
   },
   "outputs": [
    {
     "data": {
      "text/plain": [
       "dict_values(['banana', 'cherry', 'orange'])"
      ]
     },
     "execution_count": 37,
     "metadata": {},
     "output_type": "execute_result"
    }
   ],
   "source": [
    "fruits.values()"
   ]
  },
  {
   "cell_type": "code",
   "execution_count": 38,
   "id": "4a4a9279",
   "metadata": {
    "ExecuteTime": {
     "end_time": "2023-03-09T10:46:24.458809Z",
     "start_time": "2023-03-09T10:46:24.439609Z"
    }
   },
   "outputs": [
    {
     "data": {
      "text/plain": [
       "dict_items([('b', 'banana'), ('c', 'cherry'), ('o', 'orange')])"
      ]
     },
     "execution_count": 38,
     "metadata": {},
     "output_type": "execute_result"
    }
   ],
   "source": [
    "fruits.items()"
   ]
  },
  {
   "cell_type": "markdown",
   "id": "fafa9df1",
   "metadata": {},
   "source": [
    "# Range\n",
    "\n",
    "- Use to generate a squence of numbers\n",
    "- strat (included), stop (excluded), step count"
   ]
  },
  {
   "cell_type": "code",
   "execution_count": 39,
   "id": "e2dae9e7",
   "metadata": {
    "ExecuteTime": {
     "end_time": "2023-03-09T10:54:40.256764Z",
     "start_time": "2023-03-09T10:54:40.233315Z"
    }
   },
   "outputs": [],
   "source": [
    "r = list(range(15))"
   ]
  },
  {
   "cell_type": "code",
   "execution_count": 40,
   "id": "2e9e00b7",
   "metadata": {
    "ExecuteTime": {
     "end_time": "2023-03-09T10:54:45.463652Z",
     "start_time": "2023-03-09T10:54:45.439361Z"
    }
   },
   "outputs": [
    {
     "data": {
      "text/plain": [
       "[0, 1, 2, 3, 4, 5, 6, 7, 8, 9, 10, 11, 12, 13, 14]"
      ]
     },
     "execution_count": 40,
     "metadata": {},
     "output_type": "execute_result"
    }
   ],
   "source": [
    "r"
   ]
  },
  {
   "cell_type": "code",
   "execution_count": 41,
   "id": "1bea90eb",
   "metadata": {
    "ExecuteTime": {
     "end_time": "2023-03-09T10:55:04.899305Z",
     "start_time": "2023-03-09T10:55:04.889462Z"
    }
   },
   "outputs": [],
   "source": [
    "r1 = list(range(5,16))"
   ]
  },
  {
   "cell_type": "code",
   "execution_count": 42,
   "id": "7592ca72",
   "metadata": {
    "ExecuteTime": {
     "end_time": "2023-03-09T10:55:10.456571Z",
     "start_time": "2023-03-09T10:55:10.439103Z"
    }
   },
   "outputs": [
    {
     "data": {
      "text/plain": [
       "[5, 6, 7, 8, 9, 10, 11, 12, 13, 14, 15]"
      ]
     },
     "execution_count": 42,
     "metadata": {},
     "output_type": "execute_result"
    }
   ],
   "source": [
    "r1"
   ]
  },
  {
   "cell_type": "code",
   "execution_count": 43,
   "id": "a2e75cf5",
   "metadata": {
    "ExecuteTime": {
     "end_time": "2023-03-09T10:58:37.028790Z",
     "start_time": "2023-03-09T10:58:37.009157Z"
    }
   },
   "outputs": [],
   "source": [
    "r2 = list(range(5,21,5))"
   ]
  },
  {
   "cell_type": "code",
   "execution_count": 44,
   "id": "f7a8c90f",
   "metadata": {
    "ExecuteTime": {
     "end_time": "2023-03-09T10:58:41.308524Z",
     "start_time": "2023-03-09T10:58:41.289120Z"
    }
   },
   "outputs": [
    {
     "data": {
      "text/plain": [
       "[5, 10, 15, 20]"
      ]
     },
     "execution_count": 44,
     "metadata": {},
     "output_type": "execute_result"
    }
   ],
   "source": [
    "r2"
   ]
  },
  {
   "cell_type": "code",
   "execution_count": null,
   "id": "079c2864",
   "metadata": {},
   "outputs": [],
   "source": [
    "# extracting odd no.s from 1 to 100"
   ]
  },
  {
   "cell_type": "code",
   "execution_count": 58,
   "id": "a290a060",
   "metadata": {
    "ExecuteTime": {
     "end_time": "2023-03-09T11:13:25.138599Z",
     "start_time": "2023-03-09T11:13:25.118377Z"
    }
   },
   "outputs": [
    {
     "data": {
      "text/plain": [
       "[1,\n",
       " 3,\n",
       " 5,\n",
       " 7,\n",
       " 9,\n",
       " 11,\n",
       " 13,\n",
       " 15,\n",
       " 17,\n",
       " 19,\n",
       " 21,\n",
       " 23,\n",
       " 25,\n",
       " 27,\n",
       " 29,\n",
       " 31,\n",
       " 33,\n",
       " 35,\n",
       " 37,\n",
       " 39,\n",
       " 41,\n",
       " 43,\n",
       " 45,\n",
       " 47,\n",
       " 49,\n",
       " 51,\n",
       " 53,\n",
       " 55,\n",
       " 57,\n",
       " 59,\n",
       " 61,\n",
       " 63,\n",
       " 65,\n",
       " 67,\n",
       " 69,\n",
       " 71,\n",
       " 73,\n",
       " 75,\n",
       " 77,\n",
       " 79,\n",
       " 81,\n",
       " 83,\n",
       " 85,\n",
       " 87,\n",
       " 89,\n",
       " 91,\n",
       " 93,\n",
       " 95,\n",
       " 97,\n",
       " 99]"
      ]
     },
     "execution_count": 58,
     "metadata": {},
     "output_type": "execute_result"
    }
   ],
   "source": [
    "r3 = list(range(1,100,2))\n",
    "r3"
   ]
  },
  {
   "cell_type": "markdown",
   "id": "84224865",
   "metadata": {},
   "source": [
    "# sets\n",
    "\n",
    "- Unique collection of immutable items/objects.\n",
    "- syntax : {}"
   ]
  },
  {
   "cell_type": "code",
   "execution_count": 45,
   "id": "7010643f",
   "metadata": {
    "ExecuteTime": {
     "end_time": "2023-03-09T11:03:15.648331Z",
     "start_time": "2023-03-09T11:03:15.629200Z"
    }
   },
   "outputs": [],
   "source": [
    "a = {'sunday', 'monday', 'tuesday'}"
   ]
  },
  {
   "cell_type": "code",
   "execution_count": 46,
   "id": "2d0188e7",
   "metadata": {
    "ExecuteTime": {
     "end_time": "2023-03-09T11:03:22.168835Z",
     "start_time": "2023-03-09T11:03:22.148388Z"
    }
   },
   "outputs": [
    {
     "data": {
      "text/plain": [
       "set"
      ]
     },
     "execution_count": 46,
     "metadata": {},
     "output_type": "execute_result"
    }
   ],
   "source": [
    "type(a)"
   ]
  },
  {
   "cell_type": "code",
   "execution_count": 47,
   "id": "b972ced4",
   "metadata": {
    "ExecuteTime": {
     "end_time": "2023-03-09T11:04:45.708628Z",
     "start_time": "2023-03-09T11:04:45.693568Z"
    }
   },
   "outputs": [],
   "source": [
    "a.add('wednesday')"
   ]
  },
  {
   "cell_type": "code",
   "execution_count": 48,
   "id": "f78679d7",
   "metadata": {
    "ExecuteTime": {
     "end_time": "2023-03-09T11:04:48.214697Z",
     "start_time": "2023-03-09T11:04:48.201278Z"
    }
   },
   "outputs": [
    {
     "data": {
      "text/plain": [
       "{'monday', 'sunday', 'tuesday', 'wednesday'}"
      ]
     },
     "execution_count": 48,
     "metadata": {},
     "output_type": "execute_result"
    }
   ],
   "source": [
    "a"
   ]
  },
  {
   "cell_type": "code",
   "execution_count": 50,
   "id": "43ff7029",
   "metadata": {
    "ExecuteTime": {
     "end_time": "2023-03-09T11:07:42.648737Z",
     "start_time": "2023-03-09T11:07:42.629267Z"
    }
   },
   "outputs": [],
   "source": [
    "b = {'thursday', 'friday', 'saturday'}"
   ]
  },
  {
   "cell_type": "code",
   "execution_count": 49,
   "id": "cdf44c10",
   "metadata": {
    "ExecuteTime": {
     "end_time": "2023-03-09T11:07:03.236069Z",
     "start_time": "2023-03-09T11:07:03.219071Z"
    }
   },
   "outputs": [],
   "source": [
    "# Union"
   ]
  },
  {
   "cell_type": "code",
   "execution_count": 52,
   "id": "4cace1cd",
   "metadata": {
    "ExecuteTime": {
     "end_time": "2023-03-09T11:08:13.404798Z",
     "start_time": "2023-03-09T11:08:13.391232Z"
    }
   },
   "outputs": [
    {
     "data": {
      "text/plain": [
       "{'friday', 'monday', 'saturday', 'sunday', 'thursday', 'tuesday', 'wednesday'}"
      ]
     },
     "execution_count": 52,
     "metadata": {},
     "output_type": "execute_result"
    }
   ],
   "source": [
    "a.union(b)"
   ]
  },
  {
   "cell_type": "code",
   "execution_count": 53,
   "id": "c42f5401",
   "metadata": {
    "ExecuteTime": {
     "end_time": "2023-03-09T11:08:52.298687Z",
     "start_time": "2023-03-09T11:08:52.289300Z"
    }
   },
   "outputs": [],
   "source": [
    "b.add('sunday')"
   ]
  },
  {
   "cell_type": "code",
   "execution_count": 54,
   "id": "9b89bc9a",
   "metadata": {
    "ExecuteTime": {
     "end_time": "2023-03-09T11:09:01.756722Z",
     "start_time": "2023-03-09T11:09:01.741495Z"
    }
   },
   "outputs": [
    {
     "data": {
      "text/plain": [
       "{'sunday'}"
      ]
     },
     "execution_count": 54,
     "metadata": {},
     "output_type": "execute_result"
    }
   ],
   "source": [
    "a&b"
   ]
  }
 ],
 "metadata": {
  "kernelspec": {
   "display_name": "Python 3 (ipykernel)",
   "language": "python",
   "name": "python3"
  },
  "language_info": {
   "codemirror_mode": {
    "name": "ipython",
    "version": 3
   },
   "file_extension": ".py",
   "mimetype": "text/x-python",
   "name": "python",
   "nbconvert_exporter": "python",
   "pygments_lexer": "ipython3",
   "version": "3.9.13"
  }
 },
 "nbformat": 4,
 "nbformat_minor": 5
}
