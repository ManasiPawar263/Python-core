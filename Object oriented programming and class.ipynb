{
 "cells": [
  {
   "cell_type": "markdown",
   "id": "ea554a29",
   "metadata": {},
   "source": [
    "- Class is a combination of functions and variables, which is access via objects.\n",
    "- Template : used for creating objects\n",
    "- Instance : class object\n",
    "- Reuse, ease in maintaince and code break down, etc."
   ]
  },
  {
   "cell_type": "code",
   "execution_count": 1,
   "id": "fe768938",
   "metadata": {
    "ExecuteTime": {
     "end_time": "2023-04-11T06:31:09.333160Z",
     "start_time": "2023-04-11T06:31:09.316109Z"
    }
   },
   "outputs": [],
   "source": [
    "# class\n",
    "\n",
    "class Employee:\n",
    "    pass"
   ]
  },
  {
   "cell_type": "code",
   "execution_count": 2,
   "id": "69b4b9f2",
   "metadata": {
    "ExecuteTime": {
     "end_time": "2023-04-11T06:31:09.348373Z",
     "start_time": "2023-04-11T06:31:09.337162Z"
    }
   },
   "outputs": [],
   "source": [
    "# object\n",
    "\n",
    "e1 = Employee()\n",
    "e2 = Employee()"
   ]
  },
  {
   "cell_type": "code",
   "execution_count": 3,
   "id": "c973a0c4",
   "metadata": {
    "ExecuteTime": {
     "end_time": "2023-04-11T06:31:09.363970Z",
     "start_time": "2023-04-11T06:31:09.354552Z"
    }
   },
   "outputs": [
    {
     "name": "stdout",
     "output_type": "stream",
     "text": [
      "Type of e1:  <__main__.Employee object at 0x000001C43E72E2E0>\n",
      "Type of e2:  <__main__.Employee object at 0x000001C43E72EA60>\n"
     ]
    }
   ],
   "source": [
    "print('Type of e1: ', e1)\n",
    "print('Type of e2: ', e2)"
   ]
  },
  {
   "cell_type": "code",
   "execution_count": 4,
   "id": "1c70e69e",
   "metadata": {
    "ExecuteTime": {
     "end_time": "2023-04-11T06:31:09.380039Z",
     "start_time": "2023-04-11T06:31:09.368029Z"
    }
   },
   "outputs": [
    {
     "name": "stdout",
     "output_type": "stream",
     "text": [
      "Type of e1:  <class '__main__.Employee'>\n",
      "Type of e2:  <class '__main__.Employee'>\n"
     ]
    }
   ],
   "source": [
    "print('Type of e1: ', type(e1))\n",
    "print('Type of e2: ', type(e2))"
   ]
  },
  {
   "cell_type": "code",
   "execution_count": 5,
   "id": "033cc1bf",
   "metadata": {
    "ExecuteTime": {
     "end_time": "2023-04-11T06:31:09.395634Z",
     "start_time": "2023-04-11T06:31:09.384071Z"
    }
   },
   "outputs": [
    {
     "name": "stdout",
     "output_type": "stream",
     "text": [
      "Location of e1:  1942372934368\n",
      "Location of e2:  1942372936288\n"
     ]
    }
   ],
   "source": [
    "# Location\n",
    "\n",
    "print('Location of e1: ', id(e1))\n",
    "print('Location of e2: ', id(e2))"
   ]
  },
  {
   "cell_type": "code",
   "execution_count": 6,
   "id": "8a44f58d",
   "metadata": {
    "ExecuteTime": {
     "end_time": "2023-04-11T06:31:09.411363Z",
     "start_time": "2023-04-11T06:31:09.398996Z"
    }
   },
   "outputs": [],
   "source": [
    "# Docstring\n",
    "\n",
    "class Employee:\n",
    "    '''Help: An employee class documentation\n",
    "    The instance of class can be used to create and manage employee data\n",
    "    It stores information like name, id, education, etc.'''\n",
    "    pass"
   ]
  },
  {
   "cell_type": "code",
   "execution_count": 7,
   "id": "eb05e448",
   "metadata": {
    "ExecuteTime": {
     "end_time": "2023-04-11T06:31:09.426393Z",
     "start_time": "2023-04-11T06:31:09.416362Z"
    }
   },
   "outputs": [
    {
     "name": "stdout",
     "output_type": "stream",
     "text": [
      "Help on class Employee in module __main__:\n",
      "\n",
      "class Employee(builtins.object)\n",
      " |  Help: An employee class documentation\n",
      " |  The instance of class can be used to create and manage employee data\n",
      " |  It stores information like name, id, education, etc.\n",
      " |  \n",
      " |  Data descriptors defined here:\n",
      " |  \n",
      " |  __dict__\n",
      " |      dictionary for instance variables (if defined)\n",
      " |  \n",
      " |  __weakref__\n",
      " |      list of weak references to the object (if defined)\n",
      "\n"
     ]
    }
   ],
   "source": [
    "help(Employee)"
   ]
  },
  {
   "cell_type": "code",
   "execution_count": 8,
   "id": "0fbc8761",
   "metadata": {
    "ExecuteTime": {
     "end_time": "2023-04-11T06:31:09.442010Z",
     "start_time": "2023-04-11T06:31:09.433044Z"
    }
   },
   "outputs": [],
   "source": [
    "class Employee:\n",
    "    def __init__(self, firstname, lastname):\n",
    "        self.firstname = firstname\n",
    "        self.lastname = lastname"
   ]
  },
  {
   "cell_type": "code",
   "execution_count": 9,
   "id": "910d74fd",
   "metadata": {
    "ExecuteTime": {
     "end_time": "2023-04-11T06:31:09.457627Z",
     "start_time": "2023-04-11T06:31:09.449047Z"
    }
   },
   "outputs": [
    {
     "name": "stdout",
     "output_type": "stream",
     "text": [
      "e1 dict:  {'firstname': 'Virat', 'lastname': 'Kohli'}\n"
     ]
    }
   ],
   "source": [
    "e1 = Employee('Virat', 'Kohli')\n",
    "print('e1 dict: ', e1.__dict__)"
   ]
  },
  {
   "cell_type": "code",
   "execution_count": 10,
   "id": "e8de9451",
   "metadata": {
    "ExecuteTime": {
     "end_time": "2023-04-11T06:31:09.472904Z",
     "start_time": "2023-04-11T06:31:09.466755Z"
    }
   },
   "outputs": [
    {
     "name": "stdout",
     "output_type": "stream",
     "text": [
      "e2 dict:  {'firstname': 'Rohit', 'lastname': 'Sharma'}\n"
     ]
    }
   ],
   "source": [
    "e2 = Employee('Rohit', 'Sharma')\n",
    "print('e2 dict: ', e2.__dict__)"
   ]
  },
  {
   "cell_type": "code",
   "execution_count": 29,
   "id": "1a611984",
   "metadata": {
    "ExecuteTime": {
     "end_time": "2023-04-11T06:35:37.827368Z",
     "start_time": "2023-04-11T06:35:37.820324Z"
    }
   },
   "outputs": [],
   "source": [
    "class student:\n",
    "    def __init__(self, name):\n",
    "        self.name = name\n",
    "        self.grade = []\n",
    "    def addmarks(self, marks):\n",
    "        self.grade.append(marks)\n",
    "    def maxmarks(self):\n",
    "        return max(self.grade)\n",
    "    def minmarks(self):\n",
    "        return min(self.grade)\n",
    "    def getavg(self):\n",
    "        return sum(self.grade)/len(self.grade)"
   ]
  },
  {
   "cell_type": "code",
   "execution_count": 31,
   "id": "daa8ba5e",
   "metadata": {
    "ExecuteTime": {
     "end_time": "2023-04-11T06:36:03.350723Z",
     "start_time": "2023-04-11T06:36:03.343112Z"
    }
   },
   "outputs": [],
   "source": [
    "s1 = student('Manasi')\n",
    "s1.addmarks(80)\n",
    "s1.addmarks(75)\n",
    "s1.addmarks(40)"
   ]
  },
  {
   "cell_type": "code",
   "execution_count": 32,
   "id": "b15982a3",
   "metadata": {
    "ExecuteTime": {
     "end_time": "2023-04-11T06:36:06.030559Z",
     "start_time": "2023-04-11T06:36:06.021037Z"
    }
   },
   "outputs": [
    {
     "data": {
      "text/plain": [
       "{'name': 'Manasi', 'grade': [80, 75, 40]}"
      ]
     },
     "execution_count": 32,
     "metadata": {},
     "output_type": "execute_result"
    }
   ],
   "source": [
    "s1.__dict__"
   ]
  },
  {
   "cell_type": "code",
   "execution_count": 33,
   "id": "4161737e",
   "metadata": {
    "ExecuteTime": {
     "end_time": "2023-04-11T06:36:09.107239Z",
     "start_time": "2023-04-11T06:36:09.084228Z"
    }
   },
   "outputs": [
    {
     "data": {
      "text/plain": [
       "65.0"
      ]
     },
     "execution_count": 33,
     "metadata": {},
     "output_type": "execute_result"
    }
   ],
   "source": [
    "s1.getavg()"
   ]
  },
  {
   "cell_type": "code",
   "execution_count": 34,
   "id": "df055d4b",
   "metadata": {
    "ExecuteTime": {
     "end_time": "2023-04-11T06:36:11.975499Z",
     "start_time": "2023-04-11T06:36:11.966319Z"
    }
   },
   "outputs": [
    {
     "data": {
      "text/plain": [
       "80"
      ]
     },
     "execution_count": 34,
     "metadata": {},
     "output_type": "execute_result"
    }
   ],
   "source": [
    "s1.maxmarks()"
   ]
  },
  {
   "cell_type": "code",
   "execution_count": 35,
   "id": "44668b4c",
   "metadata": {
    "ExecuteTime": {
     "end_time": "2023-04-11T06:36:15.495592Z",
     "start_time": "2023-04-11T06:36:15.489492Z"
    }
   },
   "outputs": [
    {
     "data": {
      "text/plain": [
       "40"
      ]
     },
     "execution_count": 35,
     "metadata": {},
     "output_type": "execute_result"
    }
   ],
   "source": [
    "s1.minmarks()"
   ]
  },
  {
   "cell_type": "code",
   "execution_count": 48,
   "id": "af034825",
   "metadata": {
    "ExecuteTime": {
     "end_time": "2023-04-11T09:38:32.980200Z",
     "start_time": "2023-04-11T09:38:32.959007Z"
    }
   },
   "outputs": [],
   "source": [
    "class Employee:\n",
    "    employee_count = 0\n",
    "    def __init__(self, firstname, lastname, age, salary):\n",
    "        self.firstname = firstname\n",
    "        self.lastname = lastname\n",
    "        self.age = age\n",
    "        self.salary = salary\n",
    "        self.emailid = '{} {}@companydomain.com'.format(self.firstname, self.lastname)\n",
    "        self.eid = Employee.employee_count\n",
    "        Employee.employee_count += 1\n",
    "    def printdetails(self):\n",
    "        print('Employee Details: Name: {}, Lastname: {}, Age: {}, Salary: {}, Email: {}'.format(self.firstname, self.lastname, \n",
    "                                                                                           self.age, self.salary, self.emailid))"
   ]
  },
  {
   "cell_type": "code",
   "execution_count": 49,
   "id": "43fcd4c5",
   "metadata": {
    "ExecuteTime": {
     "end_time": "2023-04-11T09:41:22.203890Z",
     "start_time": "2023-04-11T09:41:22.193887Z"
    }
   },
   "outputs": [],
   "source": [
    "e1 = Employee('Manasi', 'Pawar', 23, 10000000)\n",
    "e2 = Employee('Yuga', 'Sonawane', 21, 100000)\n",
    "e3 = Employee('Mugdha', 'Thorat', 20, 30000)\n",
    "e4 = Employee('Anagha', 'Bhadkamkar', 24, 4000000)"
   ]
  },
  {
   "cell_type": "code",
   "execution_count": 50,
   "id": "01ef8bd1",
   "metadata": {
    "ExecuteTime": {
     "end_time": "2023-04-11T09:41:26.090299Z",
     "start_time": "2023-04-11T09:41:26.082299Z"
    }
   },
   "outputs": [
    {
     "data": {
      "text/plain": [
       "{'firstname': 'Manasi',\n",
       " 'lastname': 'Pawar',\n",
       " 'age': 23,\n",
       " 'salary': 10000000,\n",
       " 'emailid': 'Manasi Pawar@companydomain.com',\n",
       " 'eid': 0}"
      ]
     },
     "execution_count": 50,
     "metadata": {},
     "output_type": "execute_result"
    }
   ],
   "source": [
    "e1.__dict__"
   ]
  },
  {
   "cell_type": "code",
   "execution_count": 51,
   "id": "4d1ea89e",
   "metadata": {
    "ExecuteTime": {
     "end_time": "2023-04-11T09:41:31.027974Z",
     "start_time": "2023-04-11T09:41:31.018891Z"
    }
   },
   "outputs": [
    {
     "name": "stdout",
     "output_type": "stream",
     "text": [
      "Employee Details: Name: Manasi, Lastname: Pawar, Age: 23, Salary: 10000000, Email: Manasi Pawar@companydomain.com\n"
     ]
    }
   ],
   "source": [
    "e1.printdetails()"
   ]
  },
  {
   "cell_type": "code",
   "execution_count": 52,
   "id": "7f4fd252",
   "metadata": {
    "ExecuteTime": {
     "end_time": "2023-04-11T09:42:31.085680Z",
     "start_time": "2023-04-11T09:42:31.064682Z"
    }
   },
   "outputs": [
    {
     "data": {
      "text/plain": [
       "4"
      ]
     },
     "execution_count": 52,
     "metadata": {},
     "output_type": "execute_result"
    }
   ],
   "source": [
    "Employee.employee_count"
   ]
  },
  {
   "cell_type": "code",
   "execution_count": 53,
   "id": "c8da317a",
   "metadata": {
    "ExecuteTime": {
     "end_time": "2023-04-11T09:42:38.672754Z",
     "start_time": "2023-04-11T09:42:38.665527Z"
    }
   },
   "outputs": [
    {
     "data": {
      "text/plain": [
       "4"
      ]
     },
     "execution_count": 53,
     "metadata": {},
     "output_type": "execute_result"
    }
   ],
   "source": [
    "e1.employee_count"
   ]
  }
 ],
 "metadata": {
  "kernelspec": {
   "display_name": "Python 3 (ipykernel)",
   "language": "python",
   "name": "python3"
  },
  "language_info": {
   "codemirror_mode": {
    "name": "ipython",
    "version": 3
   },
   "file_extension": ".py",
   "mimetype": "text/x-python",
   "name": "python",
   "nbconvert_exporter": "python",
   "pygments_lexer": "ipython3",
   "version": "3.9.16"
  }
 },
 "nbformat": 4,
 "nbformat_minor": 5
}
